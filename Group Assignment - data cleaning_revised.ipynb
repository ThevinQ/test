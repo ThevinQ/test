{
 "cells": [
  {
   "cell_type": "code",
   "execution_count": 1,
   "metadata": {
    "collapsed": true
   },
   "outputs": [],
   "source": [
    "import pandas as pd\n",
    "import matplotlib.pyplot as plt\n",
    "import numpy as np\n",
    "import seaborn as sns\n",
    "%matplotlib inline\n",
    "\n",
    "# Assuming your data files are saved in \"(your current directory)/io/\" folder. "
   ]
  },
  {
   "cell_type": "markdown",
   "metadata": {},
   "source": [
    "### Preview all 5 csv files"
   ]
  },
  {
   "cell_type": "code",
   "execution_count": 2,
   "metadata": {
    "scrolled": true
   },
   "outputs": [
    {
     "data": {
      "text/html": [
       "<div>\n",
       "<table border=\"1\" class=\"dataframe\">\n",
       "  <thead>\n",
       "    <tr style=\"text-align: right;\">\n",
       "      <th></th>\n",
       "      <th>Project ID</th>\n",
       "      <th>School ID</th>\n",
       "      <th>Teacher ID</th>\n",
       "      <th>Teacher Project Posted Sequence</th>\n",
       "      <th>Project Type</th>\n",
       "      <th>Project Title</th>\n",
       "      <th>Project Essay</th>\n",
       "      <th>Project Short Description</th>\n",
       "      <th>Project Need Statement</th>\n",
       "      <th>Project Subject Category Tree</th>\n",
       "      <th>Project Subject Subcategory Tree</th>\n",
       "      <th>Project Grade Level Category</th>\n",
       "      <th>Project Resource Category</th>\n",
       "      <th>Project Cost</th>\n",
       "      <th>Project Posted Date</th>\n",
       "      <th>Project Expiration Date</th>\n",
       "      <th>Project Current Status</th>\n",
       "      <th>Project Fully Funded Date</th>\n",
       "    </tr>\n",
       "  </thead>\n",
       "  <tbody>\n",
       "    <tr>\n",
       "      <th>0</th>\n",
       "      <td>7685f0265a19d7b52a470ee4bac883ba</td>\n",
       "      <td>e180c7424cb9c68cb49f141b092a988f</td>\n",
       "      <td>4ee5200e89d9e2998ec8baad8a3c5968</td>\n",
       "      <td>25</td>\n",
       "      <td>Teacher-Led</td>\n",
       "      <td>Stand Up to Bullying: Together We Can!</td>\n",
       "      <td>Did you know that 1-7 students in grades K-12 ...</td>\n",
       "      <td>Did you know that 1-7 students in grades K-12 ...</td>\n",
       "      <td>My students need 25 copies of \"Bullying in Sch...</td>\n",
       "      <td>Applied Learning</td>\n",
       "      <td>Character Education, Early Development</td>\n",
       "      <td>Grades PreK-2</td>\n",
       "      <td>Technology</td>\n",
       "      <td>361.80</td>\n",
       "      <td>2013-01-01</td>\n",
       "      <td>2013-05-30</td>\n",
       "      <td>Fully Funded</td>\n",
       "      <td>2013-01-11</td>\n",
       "    </tr>\n",
       "    <tr>\n",
       "      <th>1</th>\n",
       "      <td>f9f4af7099061fb4bf44642a03e5c331</td>\n",
       "      <td>08b20f1e2125103ed7aa17e8d76c71d4</td>\n",
       "      <td>cca2d1d277fb4adb50147b49cdc3b156</td>\n",
       "      <td>3</td>\n",
       "      <td>Teacher-Led</td>\n",
       "      <td>Learning in Color!</td>\n",
       "      <td>Help us have a fun, interactive listening cent...</td>\n",
       "      <td>Help us have a fun, interactive listening cent...</td>\n",
       "      <td>My students need a listening center, read alon...</td>\n",
       "      <td>Applied Learning, Literacy &amp; Language</td>\n",
       "      <td>Early Development, Literacy</td>\n",
       "      <td>Grades PreK-2</td>\n",
       "      <td>Technology</td>\n",
       "      <td>512.85</td>\n",
       "      <td>2013-01-01</td>\n",
       "      <td>2013-05-31</td>\n",
       "      <td>Expired</td>\n",
       "      <td>NaN</td>\n",
       "    </tr>\n",
       "    <tr>\n",
       "      <th>2</th>\n",
       "      <td>afd99a01739ad5557b51b1ba0174e832</td>\n",
       "      <td>1287f5128b1f36bf8434e5705a7cc04d</td>\n",
       "      <td>6c5bd0d4f20547a001628aefd71de89e</td>\n",
       "      <td>1</td>\n",
       "      <td>Teacher-Led</td>\n",
       "      <td>Help Second Grade ESL Students Develop Languag...</td>\n",
       "      <td>Visiting or moving to a new place can be very ...</td>\n",
       "      <td>Visiting or moving to a new place can be very ...</td>\n",
       "      <td>My students need beginning vocabulary audio ca...</td>\n",
       "      <td>Literacy &amp; Language</td>\n",
       "      <td>ESL</td>\n",
       "      <td>Grades PreK-2</td>\n",
       "      <td>Supplies</td>\n",
       "      <td>435.92</td>\n",
       "      <td>2013-01-01</td>\n",
       "      <td>2013-05-30</td>\n",
       "      <td>Fully Funded</td>\n",
       "      <td>2013-05-22</td>\n",
       "    </tr>\n",
       "    <tr>\n",
       "      <th>3</th>\n",
       "      <td>c614a38bb1a5e68e2ae6ad9d94bb2492</td>\n",
       "      <td>900fec9cd7a3188acbc90586a09584ef</td>\n",
       "      <td>8ed6f8181d092a8f4c008b18d18e54ad</td>\n",
       "      <td>40</td>\n",
       "      <td>Teacher-Led</td>\n",
       "      <td>Help Bilingual Students Strengthen Reading Com...</td>\n",
       "      <td>Students at our school are still working hard ...</td>\n",
       "      <td>Students at our school are still working hard ...</td>\n",
       "      <td>My students need one copy of each book in The ...</td>\n",
       "      <td>Literacy &amp; Language</td>\n",
       "      <td>ESL, Literacy</td>\n",
       "      <td>Grades 3-5</td>\n",
       "      <td>Books</td>\n",
       "      <td>161.26</td>\n",
       "      <td>2013-01-01</td>\n",
       "      <td>2013-05-31</td>\n",
       "      <td>Fully Funded</td>\n",
       "      <td>2013-02-06</td>\n",
       "    </tr>\n",
       "    <tr>\n",
       "      <th>4</th>\n",
       "      <td>ec82a697fab916c0db0cdad746338df9</td>\n",
       "      <td>3b200e7fe3e6dde3c169c02e5fb5ae86</td>\n",
       "      <td>893173d62775f8be7c30bf4220ad0c33</td>\n",
       "      <td>2</td>\n",
       "      <td>Teacher-Led</td>\n",
       "      <td>Help Us Make Each Minute Count!</td>\n",
       "      <td>\"Idle hands\" were something that Issac Watts s...</td>\n",
       "      <td>\"Idle hands\" were something that Issac Watts s...</td>\n",
       "      <td>My students need items such as Velcro, two pou...</td>\n",
       "      <td>Special Needs</td>\n",
       "      <td>Special Needs</td>\n",
       "      <td>Grades 3-5</td>\n",
       "      <td>Supplies</td>\n",
       "      <td>264.19</td>\n",
       "      <td>2013-01-01</td>\n",
       "      <td>2013-05-30</td>\n",
       "      <td>Fully Funded</td>\n",
       "      <td>2013-01-01</td>\n",
       "    </tr>\n",
       "  </tbody>\n",
       "</table>\n",
       "</div>"
      ],
      "text/plain": [
       "                         Project ID                         School ID  \\\n",
       "0  7685f0265a19d7b52a470ee4bac883ba  e180c7424cb9c68cb49f141b092a988f   \n",
       "1  f9f4af7099061fb4bf44642a03e5c331  08b20f1e2125103ed7aa17e8d76c71d4   \n",
       "2  afd99a01739ad5557b51b1ba0174e832  1287f5128b1f36bf8434e5705a7cc04d   \n",
       "3  c614a38bb1a5e68e2ae6ad9d94bb2492  900fec9cd7a3188acbc90586a09584ef   \n",
       "4  ec82a697fab916c0db0cdad746338df9  3b200e7fe3e6dde3c169c02e5fb5ae86   \n",
       "\n",
       "                         Teacher ID  Teacher Project Posted Sequence  \\\n",
       "0  4ee5200e89d9e2998ec8baad8a3c5968                               25   \n",
       "1  cca2d1d277fb4adb50147b49cdc3b156                                3   \n",
       "2  6c5bd0d4f20547a001628aefd71de89e                                1   \n",
       "3  8ed6f8181d092a8f4c008b18d18e54ad                               40   \n",
       "4  893173d62775f8be7c30bf4220ad0c33                                2   \n",
       "\n",
       "  Project Type                                      Project Title  \\\n",
       "0  Teacher-Led             Stand Up to Bullying: Together We Can!   \n",
       "1  Teacher-Led                                 Learning in Color!   \n",
       "2  Teacher-Led  Help Second Grade ESL Students Develop Languag...   \n",
       "3  Teacher-Led  Help Bilingual Students Strengthen Reading Com...   \n",
       "4  Teacher-Led                   Help Us Make Each Minute Count!    \n",
       "\n",
       "                                       Project Essay  \\\n",
       "0  Did you know that 1-7 students in grades K-12 ...   \n",
       "1  Help us have a fun, interactive listening cent...   \n",
       "2  Visiting or moving to a new place can be very ...   \n",
       "3  Students at our school are still working hard ...   \n",
       "4  \"Idle hands\" were something that Issac Watts s...   \n",
       "\n",
       "                           Project Short Description  \\\n",
       "0  Did you know that 1-7 students in grades K-12 ...   \n",
       "1  Help us have a fun, interactive listening cent...   \n",
       "2  Visiting or moving to a new place can be very ...   \n",
       "3  Students at our school are still working hard ...   \n",
       "4  \"Idle hands\" were something that Issac Watts s...   \n",
       "\n",
       "                              Project Need Statement  \\\n",
       "0  My students need 25 copies of \"Bullying in Sch...   \n",
       "1  My students need a listening center, read alon...   \n",
       "2  My students need beginning vocabulary audio ca...   \n",
       "3  My students need one copy of each book in The ...   \n",
       "4  My students need items such as Velcro, two pou...   \n",
       "\n",
       "           Project Subject Category Tree  \\\n",
       "0                       Applied Learning   \n",
       "1  Applied Learning, Literacy & Language   \n",
       "2                    Literacy & Language   \n",
       "3                    Literacy & Language   \n",
       "4                          Special Needs   \n",
       "\n",
       "         Project Subject Subcategory Tree Project Grade Level Category  \\\n",
       "0  Character Education, Early Development                Grades PreK-2   \n",
       "1             Early Development, Literacy                Grades PreK-2   \n",
       "2                                     ESL                Grades PreK-2   \n",
       "3                           ESL, Literacy                   Grades 3-5   \n",
       "4                           Special Needs                   Grades 3-5   \n",
       "\n",
       "  Project Resource Category  Project Cost Project Posted Date  \\\n",
       "0                Technology        361.80          2013-01-01   \n",
       "1                Technology        512.85          2013-01-01   \n",
       "2                  Supplies        435.92          2013-01-01   \n",
       "3                     Books        161.26          2013-01-01   \n",
       "4                  Supplies        264.19          2013-01-01   \n",
       "\n",
       "  Project Expiration Date Project Current Status Project Fully Funded Date  \n",
       "0              2013-05-30           Fully Funded                2013-01-11  \n",
       "1              2013-05-31                Expired                       NaN  \n",
       "2              2013-05-30           Fully Funded                2013-05-22  \n",
       "3              2013-05-31           Fully Funded                2013-02-06  \n",
       "4              2013-05-30           Fully Funded                2013-01-01  "
      ]
     },
     "execution_count": 2,
     "metadata": {},
     "output_type": "execute_result"
    }
   ],
   "source": [
    "df_projects = pd.read_csv(\"io/Projects.csv\")\n",
    "df_projects.head()"
   ]
  },
  {
   "cell_type": "code",
   "execution_count": 3,
   "metadata": {
    "scrolled": true
   },
   "outputs": [
    {
     "data": {
      "text/html": [
       "<div>\n",
       "<table border=\"1\" class=\"dataframe\">\n",
       "  <thead>\n",
       "    <tr style=\"text-align: right;\">\n",
       "      <th></th>\n",
       "      <th>Project ID</th>\n",
       "      <th>Donation ID</th>\n",
       "      <th>Donor ID</th>\n",
       "      <th>Donation Included Optional Donation</th>\n",
       "      <th>Donation Amount</th>\n",
       "      <th>Donor Cart Sequence</th>\n",
       "      <th>Donation Received Date</th>\n",
       "    </tr>\n",
       "  </thead>\n",
       "  <tbody>\n",
       "    <tr>\n",
       "      <th>0</th>\n",
       "      <td>000009891526c0ade7180f8423792063</td>\n",
       "      <td>688729120858666221208529ee3fc18e</td>\n",
       "      <td>1f4b5b6e68445c6c4a0509b3aca93f38</td>\n",
       "      <td>No</td>\n",
       "      <td>178.37</td>\n",
       "      <td>11</td>\n",
       "      <td>2016-08-23 13:15:57</td>\n",
       "    </tr>\n",
       "    <tr>\n",
       "      <th>1</th>\n",
       "      <td>000009891526c0ade7180f8423792063</td>\n",
       "      <td>dcf1071da3aa3561f91ac689d1f73dee</td>\n",
       "      <td>4aaab6d244bf3599682239ed5591af8a</td>\n",
       "      <td>Yes</td>\n",
       "      <td>25.00</td>\n",
       "      <td>2</td>\n",
       "      <td>2016-06-06 20:05:23</td>\n",
       "    </tr>\n",
       "    <tr>\n",
       "      <th>2</th>\n",
       "      <td>000009891526c0ade7180f8423792063</td>\n",
       "      <td>18a234b9d1e538c431761d521ea7799d</td>\n",
       "      <td>0b0765dc9c759adc48a07688ba25e94e</td>\n",
       "      <td>Yes</td>\n",
       "      <td>20.00</td>\n",
       "      <td>3</td>\n",
       "      <td>2016-06-06 14:08:46</td>\n",
       "    </tr>\n",
       "    <tr>\n",
       "      <th>3</th>\n",
       "      <td>000009891526c0ade7180f8423792063</td>\n",
       "      <td>38d2744bf9138b0b57ed581c76c0e2da</td>\n",
       "      <td>377944ad61f72d800b25ec1862aec363</td>\n",
       "      <td>Yes</td>\n",
       "      <td>25.00</td>\n",
       "      <td>1</td>\n",
       "      <td>2016-05-15 10:23:04</td>\n",
       "    </tr>\n",
       "    <tr>\n",
       "      <th>4</th>\n",
       "      <td>000009891526c0ade7180f8423792063</td>\n",
       "      <td>5a032791e31167a70206bfb86fb60035</td>\n",
       "      <td>6d5b22d39e68c656071a842732c63a0c</td>\n",
       "      <td>Yes</td>\n",
       "      <td>25.00</td>\n",
       "      <td>2</td>\n",
       "      <td>2016-05-17 01:23:38</td>\n",
       "    </tr>\n",
       "  </tbody>\n",
       "</table>\n",
       "</div>"
      ],
      "text/plain": [
       "                         Project ID                       Donation ID  \\\n",
       "0  000009891526c0ade7180f8423792063  688729120858666221208529ee3fc18e   \n",
       "1  000009891526c0ade7180f8423792063  dcf1071da3aa3561f91ac689d1f73dee   \n",
       "2  000009891526c0ade7180f8423792063  18a234b9d1e538c431761d521ea7799d   \n",
       "3  000009891526c0ade7180f8423792063  38d2744bf9138b0b57ed581c76c0e2da   \n",
       "4  000009891526c0ade7180f8423792063  5a032791e31167a70206bfb86fb60035   \n",
       "\n",
       "                           Donor ID Donation Included Optional Donation  \\\n",
       "0  1f4b5b6e68445c6c4a0509b3aca93f38                                  No   \n",
       "1  4aaab6d244bf3599682239ed5591af8a                                 Yes   \n",
       "2  0b0765dc9c759adc48a07688ba25e94e                                 Yes   \n",
       "3  377944ad61f72d800b25ec1862aec363                                 Yes   \n",
       "4  6d5b22d39e68c656071a842732c63a0c                                 Yes   \n",
       "\n",
       "   Donation Amount  Donor Cart Sequence Donation Received Date  \n",
       "0           178.37                   11    2016-08-23 13:15:57  \n",
       "1            25.00                    2    2016-06-06 20:05:23  \n",
       "2            20.00                    3    2016-06-06 14:08:46  \n",
       "3            25.00                    1    2016-05-15 10:23:04  \n",
       "4            25.00                    2    2016-05-17 01:23:38  "
      ]
     },
     "execution_count": 3,
     "metadata": {},
     "output_type": "execute_result"
    }
   ],
   "source": [
    "df_donations = pd.read_csv(\"io/Donations.csv\") \n",
    "df_donations.head()"
   ]
  },
  {
   "cell_type": "code",
   "execution_count": 4,
   "metadata": {
    "collapsed": true
   },
   "outputs": [],
   "source": [
    "df_donations.drop_duplicates(subset=['Donation ID'], keep='first', inplace = True)\n",
    "df_donations = df_donations.reset_index(drop=True)"
   ]
  },
  {
   "cell_type": "code",
   "execution_count": 5,
   "metadata": {},
   "outputs": [
    {
     "data": {
      "text/html": [
       "<div>\n",
       "<table border=\"1\" class=\"dataframe\">\n",
       "  <thead>\n",
       "    <tr style=\"text-align: right;\">\n",
       "      <th></th>\n",
       "      <th>Donor ID</th>\n",
       "      <th>Donor City</th>\n",
       "      <th>Donor State</th>\n",
       "      <th>Donor Is Teacher</th>\n",
       "    </tr>\n",
       "  </thead>\n",
       "  <tbody>\n",
       "    <tr>\n",
       "      <th>0</th>\n",
       "      <td>00000ce845c00cbf0686c992fc369df4</td>\n",
       "      <td>Evanston</td>\n",
       "      <td>Illinois</td>\n",
       "      <td>No</td>\n",
       "    </tr>\n",
       "    <tr>\n",
       "      <th>1</th>\n",
       "      <td>00002783bc5d108510f3f9666c8b1edd</td>\n",
       "      <td>Appomattox</td>\n",
       "      <td>other</td>\n",
       "      <td>No</td>\n",
       "    </tr>\n",
       "    <tr>\n",
       "      <th>2</th>\n",
       "      <td>00002d44003ed46b066607c5455a999a</td>\n",
       "      <td>Winton</td>\n",
       "      <td>California</td>\n",
       "      <td>Yes</td>\n",
       "    </tr>\n",
       "    <tr>\n",
       "      <th>3</th>\n",
       "      <td>00002eb25d60a09c318efbd0797bffb5</td>\n",
       "      <td>Indianapolis</td>\n",
       "      <td>Indiana</td>\n",
       "      <td>No</td>\n",
       "    </tr>\n",
       "    <tr>\n",
       "      <th>4</th>\n",
       "      <td>0000300773fe015f870914b42528541b</td>\n",
       "      <td>Paterson</td>\n",
       "      <td>New Jersey</td>\n",
       "      <td>No</td>\n",
       "    </tr>\n",
       "  </tbody>\n",
       "</table>\n",
       "</div>"
      ],
      "text/plain": [
       "                           Donor ID    Donor City Donor State Donor Is Teacher\n",
       "0  00000ce845c00cbf0686c992fc369df4      Evanston    Illinois               No\n",
       "1  00002783bc5d108510f3f9666c8b1edd    Appomattox       other               No\n",
       "2  00002d44003ed46b066607c5455a999a        Winton  California              Yes\n",
       "3  00002eb25d60a09c318efbd0797bffb5  Indianapolis     Indiana               No\n",
       "4  0000300773fe015f870914b42528541b      Paterson  New Jersey               No"
      ]
     },
     "execution_count": 5,
     "metadata": {},
     "output_type": "execute_result"
    }
   ],
   "source": [
    "df_donors = pd.read_csv(\"io/Donors.csv\", usecols = [0,1,2,3])\n",
    "df_donors.head()\n",
    "#some extra steps because Donors.csv is found to have mixed types within column 4:'Donor Zip', since that column is not critical, it is dropped"
   ]
  },
  {
   "cell_type": "code",
   "execution_count": 6,
   "metadata": {},
   "outputs": [
    {
     "data": {
      "text/html": [
       "<div>\n",
       "<table border=\"1\" class=\"dataframe\">\n",
       "  <thead>\n",
       "    <tr style=\"text-align: right;\">\n",
       "      <th></th>\n",
       "      <th>Project ID</th>\n",
       "      <th>Resource Item Name</th>\n",
       "      <th>Resource Quantity</th>\n",
       "      <th>Resource Unit Price</th>\n",
       "      <th>Resource Vendor Name</th>\n",
       "    </tr>\n",
       "  </thead>\n",
       "  <tbody>\n",
       "    <tr>\n",
       "      <th>7210443</th>\n",
       "      <td>ffffd8f0fbfa10b99efe90a5ee13c5df</td>\n",
       "      <td>the millionaire next door: the surprising secr...</td>\n",
       "      <td>1.0</td>\n",
       "      <td>14.32</td>\n",
       "      <td>Amazon Business</td>\n",
       "    </tr>\n",
       "    <tr>\n",
       "      <th>7210444</th>\n",
       "      <td>ffffd8f0fbfa10b99efe90a5ee13c5df</td>\n",
       "      <td>the motley fool investment guide for teens: 8 ...</td>\n",
       "      <td>10.0</td>\n",
       "      <td>9.98</td>\n",
       "      <td>Amazon Business</td>\n",
       "    </tr>\n",
       "    <tr>\n",
       "      <th>7210445</th>\n",
       "      <td>ffffd8f0fbfa10b99efe90a5ee13c5df</td>\n",
       "      <td>pacon presentation board, 48\"x36\", tri-fold, 2...</td>\n",
       "      <td>2.0</td>\n",
       "      <td>57.59</td>\n",
       "      <td>Amazon Business</td>\n",
       "    </tr>\n",
       "    <tr>\n",
       "      <th>7210446</th>\n",
       "      <td>ffffddafb302eb8e4dff8819e9e5ee52</td>\n",
       "      <td>apple - ipad� air with wi-fi - 32gb - silver</td>\n",
       "      <td>4.0</td>\n",
       "      <td>449.99</td>\n",
       "      <td>Best Buy Education</td>\n",
       "    </tr>\n",
       "    <tr>\n",
       "      <th>7210447</th>\n",
       "      <td>fffffcc42d1bf7ab742a4fa2d820f9f0</td>\n",
       "      <td>dell - inspiron 11.6'laptop - amd a6 - 4gb mem...</td>\n",
       "      <td>2.0</td>\n",
       "      <td>191.40</td>\n",
       "      <td>Best Buy Education</td>\n",
       "    </tr>\n",
       "  </tbody>\n",
       "</table>\n",
       "</div>"
      ],
      "text/plain": [
       "                               Project ID  \\\n",
       "7210443  ffffd8f0fbfa10b99efe90a5ee13c5df   \n",
       "7210444  ffffd8f0fbfa10b99efe90a5ee13c5df   \n",
       "7210445  ffffd8f0fbfa10b99efe90a5ee13c5df   \n",
       "7210446  ffffddafb302eb8e4dff8819e9e5ee52   \n",
       "7210447  fffffcc42d1bf7ab742a4fa2d820f9f0   \n",
       "\n",
       "                                        Resource Item Name  Resource Quantity  \\\n",
       "7210443  the millionaire next door: the surprising secr...                1.0   \n",
       "7210444  the motley fool investment guide for teens: 8 ...               10.0   \n",
       "7210445  pacon presentation board, 48\"x36\", tri-fold, 2...                2.0   \n",
       "7210446       apple - ipad� air with wi-fi - 32gb - silver                4.0   \n",
       "7210447  dell - inspiron 11.6'laptop - amd a6 - 4gb mem...                2.0   \n",
       "\n",
       "         Resource Unit Price Resource Vendor Name  \n",
       "7210443                14.32      Amazon Business  \n",
       "7210444                 9.98      Amazon Business  \n",
       "7210445                57.59      Amazon Business  \n",
       "7210446               449.99   Best Buy Education  \n",
       "7210447               191.40   Best Buy Education  "
      ]
     },
     "execution_count": 6,
     "metadata": {},
     "output_type": "execute_result"
    }
   ],
   "source": [
    "df_resources = pd.read_csv(\"io/Resources.csv\")\n",
    "df_resources.tail()"
   ]
  },
  {
   "cell_type": "code",
   "execution_count": 7,
   "metadata": {},
   "outputs": [
    {
     "data": {
      "text/html": [
       "<div>\n",
       "<table border=\"1\" class=\"dataframe\">\n",
       "  <thead>\n",
       "    <tr style=\"text-align: right;\">\n",
       "      <th></th>\n",
       "      <th>School ID</th>\n",
       "      <th>School Name</th>\n",
       "      <th>School Metro Type</th>\n",
       "      <th>School Percentage Free Lunch</th>\n",
       "      <th>School State</th>\n",
       "      <th>School Zip</th>\n",
       "      <th>School City</th>\n",
       "      <th>School County</th>\n",
       "      <th>School District</th>\n",
       "    </tr>\n",
       "  </thead>\n",
       "  <tbody>\n",
       "    <tr>\n",
       "      <th>0</th>\n",
       "      <td>00003e0fdd601b8ea0a6eb44057b9c5e</td>\n",
       "      <td>Capon Bridge Middle School</td>\n",
       "      <td>rural</td>\n",
       "      <td>56.0</td>\n",
       "      <td>West Virginia</td>\n",
       "      <td>26711</td>\n",
       "      <td>Capon Bridge</td>\n",
       "      <td>Hampshire</td>\n",
       "      <td>Hampshire Co School District</td>\n",
       "    </tr>\n",
       "    <tr>\n",
       "      <th>1</th>\n",
       "      <td>00004e32a448b4832e1b993500bf0731</td>\n",
       "      <td>The Woodlands College Park High School</td>\n",
       "      <td>urban</td>\n",
       "      <td>41.0</td>\n",
       "      <td>Texas</td>\n",
       "      <td>77384</td>\n",
       "      <td>The Woodlands</td>\n",
       "      <td>Montgomery</td>\n",
       "      <td>Conroe Ind School District</td>\n",
       "    </tr>\n",
       "    <tr>\n",
       "      <th>2</th>\n",
       "      <td>0002021bb799f28de224f1acc1ff08c4</td>\n",
       "      <td>Samantha Smith Elementary School</td>\n",
       "      <td>suburban</td>\n",
       "      <td>2.0</td>\n",
       "      <td>Washington</td>\n",
       "      <td>98074</td>\n",
       "      <td>Sammamish</td>\n",
       "      <td>King</td>\n",
       "      <td>Lake Washington Sch Dist 414</td>\n",
       "    </tr>\n",
       "    <tr>\n",
       "      <th>3</th>\n",
       "      <td>0004604f675212a8cac1161338265196</td>\n",
       "      <td>Kingsbury Country Day School</td>\n",
       "      <td>unknown</td>\n",
       "      <td>76.0</td>\n",
       "      <td>Michigan</td>\n",
       "      <td>48370</td>\n",
       "      <td>Oxford</td>\n",
       "      <td>Oakland</td>\n",
       "      <td>Michigan Dept Of Education</td>\n",
       "    </tr>\n",
       "    <tr>\n",
       "      <th>4</th>\n",
       "      <td>0004c9d50bcf0cea990f844e58b5e2c3</td>\n",
       "      <td>Redwater Elementary School</td>\n",
       "      <td>rural</td>\n",
       "      <td>50.0</td>\n",
       "      <td>Texas</td>\n",
       "      <td>75573</td>\n",
       "      <td>Redwater</td>\n",
       "      <td>Bowie</td>\n",
       "      <td>Redwater Ind Sch District</td>\n",
       "    </tr>\n",
       "  </tbody>\n",
       "</table>\n",
       "</div>"
      ],
      "text/plain": [
       "                          School ID                             School Name  \\\n",
       "0  00003e0fdd601b8ea0a6eb44057b9c5e              Capon Bridge Middle School   \n",
       "1  00004e32a448b4832e1b993500bf0731  The Woodlands College Park High School   \n",
       "2  0002021bb799f28de224f1acc1ff08c4        Samantha Smith Elementary School   \n",
       "3  0004604f675212a8cac1161338265196            Kingsbury Country Day School   \n",
       "4  0004c9d50bcf0cea990f844e58b5e2c3              Redwater Elementary School   \n",
       "\n",
       "  School Metro Type  School Percentage Free Lunch   School State  School Zip  \\\n",
       "0             rural                          56.0  West Virginia       26711   \n",
       "1             urban                          41.0          Texas       77384   \n",
       "2          suburban                           2.0     Washington       98074   \n",
       "3           unknown                          76.0       Michigan       48370   \n",
       "4             rural                          50.0          Texas       75573   \n",
       "\n",
       "     School City School County               School District  \n",
       "0   Capon Bridge     Hampshire  Hampshire Co School District  \n",
       "1  The Woodlands    Montgomery    Conroe Ind School District  \n",
       "2      Sammamish          King  Lake Washington Sch Dist 414  \n",
       "3         Oxford       Oakland    Michigan Dept Of Education  \n",
       "4       Redwater         Bowie     Redwater Ind Sch District  "
      ]
     },
     "execution_count": 7,
     "metadata": {},
     "output_type": "execute_result"
    }
   ],
   "source": [
    "df_schools = pd.read_csv(\"io/Schools.csv\")\n",
    "df_schools.head()"
   ]
  },
  {
   "cell_type": "code",
   "execution_count": 8,
   "metadata": {},
   "outputs": [
    {
     "data": {
      "text/plain": [
       "'Did you know that 1-7 students in grades K-12 is either a bully or a victim of bullying? My goal is to raise prevention through being educated and aware of the effects and consequences of bullying. They need to know how to access a science-base, research-validated curriculum via Internet and books. <!--DONOTREMOVEESSAYDIVIDER-->We are part of a small pre-k and kindergarten primary center. Our student population is less than 300 students. My students are learning to stand up to bullying. They are great kids discovering the world and learning to read and write. But I worry that next year when they leave our primary center and attend their neighborhood school (student population over 500) they will face a very different environment. I hope that the lessons that they have learned about friendships, kindness, and working cooperatively will reduce any instances of bullying. I want to raise awareness and educate my students so they can ask for help when they needed. Vigilance and discipline is the key! <!--DONOTREMOVEESSAYDIVIDER-->We know that knowledge is power; I want my students to know how to access information that will help them stand up to bullying. My project is to work with them in group discussions using their book, \"Bullying in Schools\" as they will all have a copy to keep and share with their parents. I will use the tablet with a small group of four kids at a time. Together we will navigate web sites to watch videos and testimonials. They can then talk about it, share with their parents, and I can lead class discussions. \\n\\nThere is access to information, articles and poems, and making them aware will educate them further on bullying. We must rise up and be the change to reach bullying in the heart of the problem. Bullying takes many forms and can happen in many contexts. Bullying is complex and there is no one size fits all solution for it, but knowledge is power. My students need to know how to find answers and information when they need it. <!--DONOTREMOVEESSAYDIVIDER-->This problem of bullying in schools is not one without a solution. We need every one helping teachers, parents, administrators and people in our community. The facts show that it is estimated that 160,000 children miss school every day due to fear of attack or intimidation by other students. Being aware of these facts should raise awareness and support. Your efforts will certainly have an impact. Together we can stand up to bullying. '"
      ]
     },
     "execution_count": 8,
     "metadata": {},
     "output_type": "execute_result"
    }
   ],
   "source": [
    "df_projects['Project Essay'][0]"
   ]
  },
  {
   "cell_type": "code",
   "execution_count": 9,
   "metadata": {},
   "outputs": [
    {
     "data": {
      "text/plain": [
       "'Did you know that 1-7 students in grades K-12 is either a bully or a victim of bullying? My goal is to raise prevention through being educated and aware of the effects and consequences of...'"
      ]
     },
     "execution_count": 9,
     "metadata": {},
     "output_type": "execute_result"
    }
   ],
   "source": [
    "df_projects['Project Short Description'][0] #'Project Short Description' is a truncated version of 'Project Essay', hence it is redundant and will be removed"
   ]
  },
  {
   "cell_type": "code",
   "execution_count": 10,
   "metadata": {},
   "outputs": [
    {
     "data": {
      "text/plain": [
       "1110015"
      ]
     },
     "execution_count": 10,
     "metadata": {},
     "output_type": "execute_result"
    }
   ],
   "source": [
    "len(df_projects['Project ID'].unique())"
   ]
  },
  {
   "cell_type": "code",
   "execution_count": 11,
   "metadata": {},
   "outputs": [
    {
     "data": {
      "text/plain": [
       "901965"
      ]
     },
     "execution_count": 11,
     "metadata": {},
     "output_type": "execute_result"
    }
   ],
   "source": [
    "len(df_donations['Project ID'].unique())"
   ]
  },
  {
   "cell_type": "code",
   "execution_count": 75,
   "metadata": {},
   "outputs": [
    {
     "data": {
      "text/plain": [
       "4577775"
      ]
     },
     "execution_count": 75,
     "metadata": {},
     "output_type": "execute_result"
    }
   ],
   "source": [
    "len(df_donations['Donation ID'].unique())"
   ]
  },
  {
   "cell_type": "code",
   "execution_count": 12,
   "metadata": {},
   "outputs": [
    {
     "data": {
      "text/plain": [
       "2122640"
      ]
     },
     "execution_count": 12,
     "metadata": {},
     "output_type": "execute_result"
    }
   ],
   "source": [
    "len(df_donors['Donor ID'].unique())"
   ]
  },
  {
   "cell_type": "code",
   "execution_count": 13,
   "metadata": {},
   "outputs": [
    {
     "data": {
      "text/plain": [
       "No     1910355\n",
       "Yes     212285\n",
       "Name: Donor Is Teacher, dtype: int64"
      ]
     },
     "execution_count": 13,
     "metadata": {},
     "output_type": "execute_result"
    }
   ],
   "source": [
    "df_donors['Donor Is Teacher'].value_counts()"
   ]
  },
  {
   "cell_type": "code",
   "execution_count": 14,
   "metadata": {},
   "outputs": [
    {
     "data": {
      "text/plain": [
       "Teacher-Led                 1092163\n",
       "Professional Development      10235\n",
       "Student-Led                    7619\n",
       "Name: Project Type, dtype: int64"
      ]
     },
     "execution_count": 14,
     "metadata": {},
     "output_type": "execute_result"
    }
   ],
   "source": [
    "df_projects['Project Type'].value_counts() #Remarks: This variable will not be considered since it is so skewed towards 'Teacher-Led'"
   ]
  },
  {
   "cell_type": "code",
   "execution_count": 15,
   "metadata": {},
   "outputs": [
    {
     "data": {
      "text/plain": [
       "Grades PreK-2    432002\n",
       "Grades 3-5       364257\n",
       "Grades 6-8       181236\n",
       "Grades 9-12      132469\n",
       "unknown              53\n",
       "Name: Project Grade Level Category, dtype: int64"
      ]
     },
     "execution_count": 15,
     "metadata": {},
     "output_type": "execute_result"
    }
   ],
   "source": [
    "df_projects['Project Grade Level Category'].value_counts() #Remarks: Can remove 'unknown' later"
   ]
  },
  {
   "cell_type": "code",
   "execution_count": 16,
   "metadata": {},
   "outputs": [
    {
     "data": {
      "text/plain": [
       "suburban    22992\n",
       "urban       22793\n",
       "rural       12973\n",
       "unknown      8125\n",
       "town         6110\n",
       "Name: School Metro Type, dtype: int64"
      ]
     },
     "execution_count": 16,
     "metadata": {},
     "output_type": "execute_result"
    }
   ],
   "source": [
    "df_schools['School Metro Type'].value_counts() #Remarks: Can merge 'unknown' and 'town'"
   ]
  },
  {
   "cell_type": "code",
   "execution_count": 17,
   "metadata": {},
   "outputs": [
    {
     "data": {
      "text/plain": [
       "(51,)"
      ]
     },
     "execution_count": 17,
     "metadata": {},
     "output_type": "execute_result"
    }
   ],
   "source": [
    "df_schools['School State'].value_counts().shape"
   ]
  },
  {
   "cell_type": "code",
   "execution_count": 18,
   "metadata": {},
   "outputs": [
    {
     "data": {
      "text/plain": [
       "(19008,)"
      ]
     },
     "execution_count": 18,
     "metadata": {},
     "output_type": "execute_result"
    }
   ],
   "source": [
    "df_schools['School Zip'].value_counts().shape #too many nomimal variables, will exclude "
   ]
  },
  {
   "cell_type": "code",
   "execution_count": 19,
   "metadata": {},
   "outputs": [
    {
     "data": {
      "text/plain": [
       "(10400,)"
      ]
     },
     "execution_count": 19,
     "metadata": {},
     "output_type": "execute_result"
    }
   ],
   "source": [
    "df_schools['School City'].value_counts().shape #too many nomimal variables, will exclude"
   ]
  },
  {
   "cell_type": "code",
   "execution_count": 20,
   "metadata": {},
   "outputs": [
    {
     "data": {
      "text/plain": [
       "(1782,)"
      ]
     },
     "execution_count": 20,
     "metadata": {},
     "output_type": "execute_result"
    }
   ],
   "source": [
    "df_schools['School County'].value_counts().shape #too many nomimal variables, will exclude"
   ]
  },
  {
   "cell_type": "code",
   "execution_count": 21,
   "metadata": {},
   "outputs": [
    {
     "data": {
      "text/plain": [
       "(10852,)"
      ]
     },
     "execution_count": 21,
     "metadata": {},
     "output_type": "execute_result"
    }
   ],
   "source": [
    "df_schools['School District'].value_counts().shape #too many nomimal variables, will exclude"
   ]
  },
  {
   "cell_type": "markdown",
   "metadata": {},
   "source": [
    "### Check and remove rows with null values (note: depending on context, some NaN values are retained)\n",
    "### Drop irrelevant columns"
   ]
  },
  {
   "cell_type": "code",
   "execution_count": 22,
   "metadata": {
    "collapsed": true
   },
   "outputs": [],
   "source": [
    "df_donations.columns[df_donations.isnull().any()].tolist()\n",
    "# Output to the above line:  []\n",
    "df_donors.columns[df_donors.isnull().any()].tolist()\n",
    "# Output to the above line:  ['Donor City']\n",
    "df_schools.columns[df_schools.isnull().any()].tolist()\n",
    "# Output to the above line:  ['School Percentage Free Lunch', 'School City', 'School County']\n",
    "df_resources.columns[df_resources.isnull().any()].tolist()\n",
    "# Output to the above line: \n",
    "    # ['Resource Item Name',\n",
    "    #'Resource Quantity',\n",
    "    #'Resource Unit Price',\n",
    "    #'Resource Vendor Name']\n",
    "df_projects.columns[df_projects.isnull().any()].tolist()\n",
    "# Output to the above line: \n",
    "    # ['Project Title',\n",
    "    # 'Project Essay',\n",
    "    # 'Project Short Description',\n",
    "    # 'Project Need Statement',\n",
    "    # 'Project Subject Category Tree',\n",
    "    # 'Project Subject Subcategory Tree',\n",
    "    # 'Project Resource Category',\n",
    "    # 'Project Expiration Date',\n",
    "    # 'Project Fully Funded Date']\n",
    "    \n",
    "df_donations.drop(['Donation Included Optional Donation','Donor Cart Sequence'], axis=1, inplace=True)\n",
    "# df_donors.drop(['Donor City'], axis =1, inplace = True)\n",
    "df_schools.drop(['School Percentage Free Lunch','School County','School Zip','School District'], axis =1, inplace = True)\n",
    "df_projects.drop(['Project Short Description','Project Expiration Date'], axis =1, inplace = True)\n",
    "# df_schools.dropna(subset=[\n",
    "    'School City'], how= 'any', axis=0, inplace=True)\n",
    "df_projects.dropna(subset=[\n",
    " 'Project Essay',\n",
    " 'Project Need Statement',\n",
    " 'Project Subject Category Tree',\n",
    " 'Project Subject Subcategory Tree',\n",
    " 'Project Resource Category'], how= 'any', axis=0, inplace=True)  #<--- Note! Null values from 'Project Fully Funded Date' are retained (i.e. not all NaNs are removed)\n",
    "\n",
    "df_projects['Project Posted Date'] = pd.to_datetime(df_projects['Project Posted Date'])          # <-- convert date variables into date format, just in case..\n",
    "df_donations['Donation Received Date'] = pd.to_datetime(df_donations['Donation Received Date'])  # <-- convert date variables into date format, just in case..\n",
    "\n",
    "df_projects = df_projects[df_projects['Project ID'].isin(df_donations['Project ID'].unique())]   # <-- we only want to look at projects with donations\n",
    "df_projects = df_projects[df_projects['School ID'].isin(df_schools['School ID'].unique())]       # <-- we only want to look at projects with school details\n",
    "df_donations = df_donations[df_donations['Project ID'].isin(df_projects['Project ID'].unique())] # <-- we only want to look at donations with project details\n",
    "df_donations = df_donations[df_donations['Donor ID'].isin(df_donors['Donor ID'].unique())]       # <-- we only want to look at donations with donor details\n",
    "\n",
    "df_projects = df_projects.reset_index(drop=True)\n",
    "df_schools = df_schools.reset_index(drop=True)\n",
    "df_donors = df_donors.reset_index(drop=True)\n",
    "df_donations = df_donations.reset_index(drop=True)\n",
    "#df_projects.drop_duplicates(subset = 'Project ID', keep = 'last', inplace = True)  # <-- was meant to remove duplicates, but there aren't any.."
   ]
  },
  {
   "cell_type": "markdown",
   "metadata": {},
   "source": [
    "#### Transform Data - Project Attributes\n"
   ]
  },
  {
   "cell_type": "code",
   "execution_count": 23,
   "metadata": {},
   "outputs": [
    {
     "data": {
      "text/html": [
       "<div>\n",
       "<table border=\"1\" class=\"dataframe\">\n",
       "  <thead>\n",
       "    <tr style=\"text-align: right;\">\n",
       "      <th></th>\n",
       "      <th>count</th>\n",
       "      <th>sum</th>\n",
       "    </tr>\n",
       "    <tr>\n",
       "      <th>Project ID</th>\n",
       "      <th></th>\n",
       "      <th></th>\n",
       "    </tr>\n",
       "  </thead>\n",
       "  <tbody>\n",
       "    <tr>\n",
       "      <th>000009891526c0ade7180f8423792063</th>\n",
       "      <td>6</td>\n",
       "      <td>288.37</td>\n",
       "    </tr>\n",
       "    <tr>\n",
       "      <th>00000ce845c00cbf0686c992fc369df4</th>\n",
       "      <td>7</td>\n",
       "      <td>485.00</td>\n",
       "    </tr>\n",
       "    <tr>\n",
       "      <th>00002d44003ed46b066607c5455a999a</th>\n",
       "      <td>11</td>\n",
       "      <td>672.92</td>\n",
       "    </tr>\n",
       "    <tr>\n",
       "      <th>00002eb25d60a09c318efbd0797bffb5</th>\n",
       "      <td>3</td>\n",
       "      <td>680.28</td>\n",
       "    </tr>\n",
       "    <tr>\n",
       "      <th>0000300773fe015f870914b42528541b</th>\n",
       "      <td>1</td>\n",
       "      <td>282.60</td>\n",
       "    </tr>\n",
       "  </tbody>\n",
       "</table>\n",
       "</div>"
      ],
      "text/plain": [
       "                                  count     sum\n",
       "Project ID                                     \n",
       "000009891526c0ade7180f8423792063      6  288.37\n",
       "00000ce845c00cbf0686c992fc369df4      7  485.00\n",
       "00002d44003ed46b066607c5455a999a     11  672.92\n",
       "00002eb25d60a09c318efbd0797bffb5      3  680.28\n",
       "0000300773fe015f870914b42528541b      1  282.60"
      ]
     },
     "execution_count": 23,
     "metadata": {},
     "output_type": "execute_result"
    }
   ],
   "source": [
    "df_project_donation_count = df_donations.groupby(\"Project ID\")['Donation Amount'].agg(['count','sum'])\n",
    "df_project_donation_count.head()"
   ]
  },
  {
   "cell_type": "code",
   "execution_count": 24,
   "metadata": {},
   "outputs": [
    {
     "data": {
      "text/plain": [
       "868229"
      ]
     },
     "execution_count": 24,
     "metadata": {},
     "output_type": "execute_result"
    }
   ],
   "source": [
    "len(df_project_donation_count.reset_index()['Project ID'].unique())"
   ]
  },
  {
   "cell_type": "code",
   "execution_count": 25,
   "metadata": {},
   "outputs": [
    {
     "data": {
      "image/png": "[encoded data removed]",
      "text/plain": [
       "<matplotlib.figure.Figure at 0x1b46ec1d4e0>"
      ]
     },
     "metadata": {},
     "output_type": "display_data"
    }
   ],
   "source": [
    "proj_donation_count  = df_project_donation_count['count'].value_counts()[:40,]\n",
    "plt.figure(figsize=(10,5))\n",
    "sns.barplot(proj_donation_count.index, proj_donation_count.values, alpha=0.8)\n",
    "plt.title('Number of Donations received by Projects (by descending number of projects (top 40))')\n",
    "plt.ylabel('Number of Projects', fontsize=12)\n",
    "plt.xlabel('Donations Received', fontsize=12)\n",
    "plt.show()"
   ]
  },
  {
   "cell_type": "code",
   "execution_count": 26,
   "metadata": {},
   "outputs": [
    {
     "data": {
      "text/plain": [
       "1    202140\n",
       "2    136485\n",
       "3    106489\n",
       "4     84924\n",
       "5     67619\n",
       "Name: count, dtype: int64"
      ]
     },
     "execution_count": 26,
     "metadata": {},
     "output_type": "execute_result"
    }
   ],
   "source": [
    "df_project_donation_count['count'].value_counts().sort_index(axis=0, level='int', ascending=True, inplace=False, sort_remaining=True).head()"
   ]
  },
  {
   "cell_type": "code",
   "execution_count": 27,
   "metadata": {},
   "outputs": [
    {
     "data": {
      "text/plain": [
       "538    1\n",
       "600    1\n",
       "631    1\n",
       "663    1\n",
       "863    1\n",
       "Name: count, dtype: int64"
      ]
     },
     "execution_count": 27,
     "metadata": {},
     "output_type": "execute_result"
    }
   ],
   "source": [
    "df_project_donation_count['count'].value_counts().sort_index(axis=0, level='int', ascending=True, inplace=False, sort_remaining=True).tail()"
   ]
  },
  {
   "cell_type": "code",
   "execution_count": 28,
   "metadata": {
    "scrolled": false
   },
   "outputs": [
    {
     "data": {
      "text/html": [
       "<div>\n",
       "<table border=\"1\" class=\"dataframe\">\n",
       "  <thead>\n",
       "    <tr style=\"text-align: right;\">\n",
       "      <th></th>\n",
       "      <th>Project ID</th>\n",
       "      <th># Donations Received</th>\n",
       "      <th>Total Donation Amt Received</th>\n",
       "    </tr>\n",
       "  </thead>\n",
       "  <tbody>\n",
       "    <tr>\n",
       "      <th>0</th>\n",
       "      <td>000009891526c0ade7180f8423792063</td>\n",
       "      <td>6</td>\n",
       "      <td>288.37</td>\n",
       "    </tr>\n",
       "    <tr>\n",
       "      <th>1</th>\n",
       "      <td>00000ce845c00cbf0686c992fc369df4</td>\n",
       "      <td>7</td>\n",
       "      <td>485.00</td>\n",
       "    </tr>\n",
       "    <tr>\n",
       "      <th>2</th>\n",
       "      <td>00002d44003ed46b066607c5455a999a</td>\n",
       "      <td>11</td>\n",
       "      <td>672.92</td>\n",
       "    </tr>\n",
       "    <tr>\n",
       "      <th>3</th>\n",
       "      <td>00002eb25d60a09c318efbd0797bffb5</td>\n",
       "      <td>3</td>\n",
       "      <td>680.28</td>\n",
       "    </tr>\n",
       "    <tr>\n",
       "      <th>4</th>\n",
       "      <td>0000300773fe015f870914b42528541b</td>\n",
       "      <td>1</td>\n",
       "      <td>282.60</td>\n",
       "    </tr>\n",
       "  </tbody>\n",
       "</table>\n",
       "</div>"
      ],
      "text/plain": [
       "                         Project ID  # Donations Received  \\\n",
       "0  000009891526c0ade7180f8423792063                     6   \n",
       "1  00000ce845c00cbf0686c992fc369df4                     7   \n",
       "2  00002d44003ed46b066607c5455a999a                    11   \n",
       "3  00002eb25d60a09c318efbd0797bffb5                     3   \n",
       "4  0000300773fe015f870914b42528541b                     1   \n",
       "\n",
       "   Total Donation Amt Received  \n",
       "0                       288.37  \n",
       "1                       485.00  \n",
       "2                       672.92  \n",
       "3                       680.28  \n",
       "4                       282.60  "
      ]
     },
     "execution_count": 28,
     "metadata": {},
     "output_type": "execute_result"
    }
   ],
   "source": [
    "df_project_donation_count.rename(columns={'count':'# Donations Received','sum':'Total Donation Amt Received' }, inplace=True)\n",
    "df_project_donation_count.reset_index(inplace=True)\n",
    "df_project_donation_count.head()"
   ]
  },
  {
   "cell_type": "code",
   "execution_count": 29,
   "metadata": {},
   "outputs": [
    {
     "data": {
      "text/html": [
       "<div>\n",
       "<table border=\"1\" class=\"dataframe\">\n",
       "  <thead>\n",
       "    <tr style=\"text-align: right;\">\n",
       "      <th></th>\n",
       "      <th>Project ID</th>\n",
       "      <th># Donations Received</th>\n",
       "      <th>Total Donation Amt Received</th>\n",
       "      <th>Project Cost</th>\n",
       "      <th>Project Current Status</th>\n",
       "      <th>Meet Project Cost?</th>\n",
       "    </tr>\n",
       "  </thead>\n",
       "  <tbody>\n",
       "    <tr>\n",
       "      <th>0</th>\n",
       "      <td>000009891526c0ade7180f8423792063</td>\n",
       "      <td>6</td>\n",
       "      <td>288.37</td>\n",
       "      <td>529.68</td>\n",
       "      <td>Fully Funded</td>\n",
       "      <td>False</td>\n",
       "    </tr>\n",
       "    <tr>\n",
       "      <th>1</th>\n",
       "      <td>00000ce845c00cbf0686c992fc369df4</td>\n",
       "      <td>7</td>\n",
       "      <td>485.00</td>\n",
       "      <td>710.07</td>\n",
       "      <td>Fully Funded</td>\n",
       "      <td>False</td>\n",
       "    </tr>\n",
       "    <tr>\n",
       "      <th>2</th>\n",
       "      <td>00002d44003ed46b066607c5455a999a</td>\n",
       "      <td>11</td>\n",
       "      <td>672.92</td>\n",
       "      <td>737.85</td>\n",
       "      <td>Fully Funded</td>\n",
       "      <td>False</td>\n",
       "    </tr>\n",
       "    <tr>\n",
       "      <th>3</th>\n",
       "      <td>00002eb25d60a09c318efbd0797bffb5</td>\n",
       "      <td>3</td>\n",
       "      <td>680.28</td>\n",
       "      <td>695.28</td>\n",
       "      <td>Fully Funded</td>\n",
       "      <td>False</td>\n",
       "    </tr>\n",
       "    <tr>\n",
       "      <th>4</th>\n",
       "      <td>0000300773fe015f870914b42528541b</td>\n",
       "      <td>1</td>\n",
       "      <td>282.60</td>\n",
       "      <td>282.60</td>\n",
       "      <td>Fully Funded</td>\n",
       "      <td>True</td>\n",
       "    </tr>\n",
       "  </tbody>\n",
       "</table>\n",
       "</div>"
      ],
      "text/plain": [
       "                         Project ID  # Donations Received  \\\n",
       "0  000009891526c0ade7180f8423792063                     6   \n",
       "1  00000ce845c00cbf0686c992fc369df4                     7   \n",
       "2  00002d44003ed46b066607c5455a999a                    11   \n",
       "3  00002eb25d60a09c318efbd0797bffb5                     3   \n",
       "4  0000300773fe015f870914b42528541b                     1   \n",
       "\n",
       "   Total Donation Amt Received  Project Cost Project Current Status  \\\n",
       "0                       288.37        529.68           Fully Funded   \n",
       "1                       485.00        710.07           Fully Funded   \n",
       "2                       672.92        737.85           Fully Funded   \n",
       "3                       680.28        695.28           Fully Funded   \n",
       "4                       282.60        282.60           Fully Funded   \n",
       "\n",
       "  Meet Project Cost?  \n",
       "0              False  \n",
       "1              False  \n",
       "2              False  \n",
       "3              False  \n",
       "4               True  "
      ]
     },
     "execution_count": 29,
     "metadata": {},
     "output_type": "execute_result"
    }
   ],
   "source": [
    "test = pd.merge(left=df_project_donation_count, right=df_projects[['Project ID','Project Cost','Project Current Status']], on=\"Project ID\", how=\"inner\")\n",
    "test['Meet Project Cost?'] = test['Project Cost'] <= test['Total Donation Amt Received']\n",
    "test.head()"
   ]
  },
  {
   "cell_type": "code",
   "execution_count": 30,
   "metadata": {},
   "outputs": [
    {
     "data": {
      "text/plain": [
       "False    605150\n",
       "True     111305\n",
       "Name: Meet Project Cost?, dtype: int64"
      ]
     },
     "execution_count": 30,
     "metadata": {},
     "output_type": "execute_result"
    }
   ],
   "source": [
    "test1 = test[test['Project Current Status'] =='Fully Funded']\n",
    "test1['Meet Project Cost?'].value_counts()"
   ]
  },
  {
   "cell_type": "code",
   "execution_count": 31,
   "metadata": {},
   "outputs": [
    {
     "data": {
      "text/plain": [
       "(51,)"
      ]
     },
     "execution_count": 31,
     "metadata": {},
     "output_type": "execute_result"
    }
   ],
   "source": [
    "df_projects['Project Subject Category Tree'].value_counts().shape"
   ]
  },
  {
   "cell_type": "code",
   "execution_count": 32,
   "metadata": {},
   "outputs": [
    {
     "data": {
      "text/plain": [
       "Music & The Arts, Health & Sports             171\n",
       "Music & The Arts, Applied Learning            154\n",
       "History & Civics, Health & Sports             127\n",
       "Health & Sports, Warmth, Care & Hunger         56\n",
       "Special Needs, Warmth, Care & Hunger           40\n",
       "Applied Learning, Warmth, Care & Hunger        30\n",
       "Literacy & Language, Warmth, Care & Hunger     26\n",
       "Math & Science, Warmth, Care & Hunger          19\n",
       "History & Civics, Warmth, Care & Hunger         5\n",
       "Music & The Arts, Warmth, Care & Hunger         5\n",
       "Name: Project Subject Category Tree, dtype: int64"
      ]
     },
     "execution_count": 32,
     "metadata": {},
     "output_type": "execute_result"
    }
   ],
   "source": [
    "df_projects['Project Subject Category Tree'].value_counts()[-10:]  # <-- Just a preview. Note that 'Warmth, Care & Hunger' is one category"
   ]
  },
  {
   "cell_type": "code",
   "execution_count": 33,
   "metadata": {},
   "outputs": [
    {
     "data": {
      "text/html": [
       "<div>\n",
       "<table border=\"1\" class=\"dataframe\">\n",
       "  <thead>\n",
       "    <tr style=\"text-align: right;\">\n",
       "      <th></th>\n",
       "      <th>Project Category- Applied Learning</th>\n",
       "      <th>Project Category- Health &amp; Sports</th>\n",
       "      <th>Project Category- History &amp; Civics</th>\n",
       "      <th>Project Category- Literacy &amp; Language</th>\n",
       "      <th>Project Category- Math &amp; Science</th>\n",
       "      <th>Project Category- Music &amp; The Arts</th>\n",
       "      <th>Project Category- Special Needs</th>\n",
       "      <th>Project Category- Warmth, Care &amp; Hunger</th>\n",
       "    </tr>\n",
       "  </thead>\n",
       "  <tbody>\n",
       "    <tr>\n",
       "      <th>868888</th>\n",
       "      <td>0</td>\n",
       "      <td>0</td>\n",
       "      <td>0</td>\n",
       "      <td>0</td>\n",
       "      <td>0</td>\n",
       "      <td>1</td>\n",
       "      <td>0</td>\n",
       "      <td>0</td>\n",
       "    </tr>\n",
       "    <tr>\n",
       "      <th>868889</th>\n",
       "      <td>0</td>\n",
       "      <td>0</td>\n",
       "      <td>0</td>\n",
       "      <td>1</td>\n",
       "      <td>1</td>\n",
       "      <td>0</td>\n",
       "      <td>0</td>\n",
       "      <td>0</td>\n",
       "    </tr>\n",
       "    <tr>\n",
       "      <th>868890</th>\n",
       "      <td>0</td>\n",
       "      <td>0</td>\n",
       "      <td>0</td>\n",
       "      <td>1</td>\n",
       "      <td>0</td>\n",
       "      <td>1</td>\n",
       "      <td>0</td>\n",
       "      <td>0</td>\n",
       "    </tr>\n",
       "    <tr>\n",
       "      <th>868891</th>\n",
       "      <td>1</td>\n",
       "      <td>0</td>\n",
       "      <td>0</td>\n",
       "      <td>1</td>\n",
       "      <td>0</td>\n",
       "      <td>0</td>\n",
       "      <td>0</td>\n",
       "      <td>0</td>\n",
       "    </tr>\n",
       "    <tr>\n",
       "      <th>Sum</th>\n",
       "      <td>122064</td>\n",
       "      <td>61170</td>\n",
       "      <td>59998</td>\n",
       "      <td>449362</td>\n",
       "      <td>335549</td>\n",
       "      <td>95399</td>\n",
       "      <td>105858</td>\n",
       "      <td>9148</td>\n",
       "    </tr>\n",
       "  </tbody>\n",
       "</table>\n",
       "</div>"
      ],
      "text/plain": [
       "        Project Category- Applied Learning  Project Category- Health & Sports  \\\n",
       "868888                                   0                                  0   \n",
       "868889                                   0                                  0   \n",
       "868890                                   0                                  0   \n",
       "868891                                   1                                  0   \n",
       "Sum                                 122064                              61170   \n",
       "\n",
       "        Project Category- History & Civics  \\\n",
       "868888                                   0   \n",
       "868889                                   0   \n",
       "868890                                   0   \n",
       "868891                                   0   \n",
       "Sum                                  59998   \n",
       "\n",
       "        Project Category- Literacy & Language  \\\n",
       "868888                                      0   \n",
       "868889                                      1   \n",
       "868890                                      1   \n",
       "868891                                      1   \n",
       "Sum                                    449362   \n",
       "\n",
       "        Project Category- Math & Science  Project Category- Music & The Arts  \\\n",
       "868888                                 0                                   1   \n",
       "868889                                 1                                   0   \n",
       "868890                                 0                                   1   \n",
       "868891                                 0                                   0   \n",
       "Sum                               335549                               95399   \n",
       "\n",
       "        Project Category- Special Needs  \\\n",
       "868888                                0   \n",
       "868889                                0   \n",
       "868890                                0   \n",
       "868891                                0   \n",
       "Sum                              105858   \n",
       "\n",
       "        Project Category- Warmth, Care & Hunger  \n",
       "868888                                        0  \n",
       "868889                                        0  \n",
       "868890                                        0  \n",
       "868891                                        0  \n",
       "Sum                                        9148  "
      ]
     },
     "execution_count": 33,
     "metadata": {},
     "output_type": "execute_result"
    }
   ],
   "source": [
    "df1 = df_projects['Project Subject Category Tree'].str.split(',', expand=True)\n",
    "\n",
    "df2 = df1.rename(columns={0:'Project Category'}, inplace=False)\n",
    "df2 = pd.get_dummies(df2, columns=['Project Category'], prefix_sep= '- ').iloc[:,2:]\n",
    "df2.rename(columns={'Project Category- Warmth':'Project Category- Warmth, Care & Hunger'}, inplace=True)  #<-- [Warmth, Care & Hunger] is actually one category, but it got split to two because of the comma..\n",
    "\n",
    "df3 = df1.rename(columns={1:'Project Category'}, inplace=False)\n",
    "df3 = pd.get_dummies(df3, columns=['Project Category'], prefix_sep= '-').iloc[:,2:]\n",
    "df3.rename(columns={'Project Category- Warmth':'Project Category- Warmth, Care & Hunger'}, inplace=True)\n",
    "df3.drop('Project Category- Care & Hunger', axis =1, inplace = True)\n",
    "\n",
    "df4 = df2.add(df3).fillna(df2)\n",
    "df4.loc['Sum'] = df4.sum()\n",
    "df4.tail()"
   ]
  },
  {
   "cell_type": "code",
   "execution_count": 34,
   "metadata": {},
   "outputs": [
    {
     "data": {
      "image/png": "[encoded data removed]",
      "text/plain": [
       "<matplotlib.figure.Figure at 0x1b3c94c25c0>"
      ]
     },
     "metadata": {},
     "output_type": "display_data"
    }
   ],
   "source": [
    "plt.figure(figsize=(10,5))\n",
    "sns.barplot(data=df4.iloc[-1:], alpha=0.8)\n",
    "plt.title('Number of Projects by Category')\n",
    "plt.ylabel('Number of Projects', fontsize=12)\n",
    "plt.xlabel('Project Category', fontsize=12)\n",
    "plt.xticks(rotation=90)\n",
    "plt.show()"
   ]
  },
  {
   "cell_type": "code",
   "execution_count": 35,
   "metadata": {},
   "outputs": [
    {
     "data": {
      "text/html": [
       "<div>\n",
       "<table border=\"1\" class=\"dataframe\">\n",
       "  <thead>\n",
       "    <tr style=\"text-align: right;\">\n",
       "      <th></th>\n",
       "      <th>Project Subcategory- Applied Sciences</th>\n",
       "      <th>Project Subcategory- Character Education</th>\n",
       "      <th>Project Subcategory- Civics &amp; Government</th>\n",
       "      <th>Project Subcategory- College &amp; Career Prep</th>\n",
       "      <th>Project Subcategory- Community Service</th>\n",
       "      <th>Project Subcategory- ESL</th>\n",
       "      <th>Project Subcategory- Early Development</th>\n",
       "      <th>Project Subcategory- Economics</th>\n",
       "      <th>Project Subcategory- Environmental Science</th>\n",
       "      <th>Project Subcategory- Extracurricular</th>\n",
       "      <th>...</th>\n",
       "      <th>Project Subcategory- Music</th>\n",
       "      <th>Project Subcategory- Nutrition Education</th>\n",
       "      <th>Project Subcategory- Other</th>\n",
       "      <th>Project Subcategory- Parent Involvement</th>\n",
       "      <th>Project Subcategory- Performing Arts</th>\n",
       "      <th>Project Subcategory- Social Sciences</th>\n",
       "      <th>Project Subcategory- Special Needs</th>\n",
       "      <th>Project Subcategory- Team Sports</th>\n",
       "      <th>Project Subcategory- Visual Arts</th>\n",
       "      <th>Project subcategory- Warmth, Care &amp; Hunger</th>\n",
       "    </tr>\n",
       "  </thead>\n",
       "  <tbody>\n",
       "    <tr>\n",
       "      <th>868888</th>\n",
       "      <td>0</td>\n",
       "      <td>0</td>\n",
       "      <td>0</td>\n",
       "      <td>0</td>\n",
       "      <td>0</td>\n",
       "      <td>0</td>\n",
       "      <td>0</td>\n",
       "      <td>0</td>\n",
       "      <td>0</td>\n",
       "      <td>0</td>\n",
       "      <td>...</td>\n",
       "      <td>0</td>\n",
       "      <td>0</td>\n",
       "      <td>0</td>\n",
       "      <td>0</td>\n",
       "      <td>0</td>\n",
       "      <td>0</td>\n",
       "      <td>0</td>\n",
       "      <td>0</td>\n",
       "      <td>1</td>\n",
       "      <td>0</td>\n",
       "    </tr>\n",
       "    <tr>\n",
       "      <th>868889</th>\n",
       "      <td>0</td>\n",
       "      <td>0</td>\n",
       "      <td>0</td>\n",
       "      <td>0</td>\n",
       "      <td>0</td>\n",
       "      <td>0</td>\n",
       "      <td>0</td>\n",
       "      <td>0</td>\n",
       "      <td>0</td>\n",
       "      <td>0</td>\n",
       "      <td>...</td>\n",
       "      <td>0</td>\n",
       "      <td>0</td>\n",
       "      <td>0</td>\n",
       "      <td>0</td>\n",
       "      <td>0</td>\n",
       "      <td>0</td>\n",
       "      <td>0</td>\n",
       "      <td>0</td>\n",
       "      <td>0</td>\n",
       "      <td>0</td>\n",
       "    </tr>\n",
       "    <tr>\n",
       "      <th>868890</th>\n",
       "      <td>0</td>\n",
       "      <td>0</td>\n",
       "      <td>0</td>\n",
       "      <td>0</td>\n",
       "      <td>0</td>\n",
       "      <td>0</td>\n",
       "      <td>0</td>\n",
       "      <td>0</td>\n",
       "      <td>0</td>\n",
       "      <td>0</td>\n",
       "      <td>...</td>\n",
       "      <td>0</td>\n",
       "      <td>0</td>\n",
       "      <td>0</td>\n",
       "      <td>0</td>\n",
       "      <td>0</td>\n",
       "      <td>0</td>\n",
       "      <td>0</td>\n",
       "      <td>0</td>\n",
       "      <td>1</td>\n",
       "      <td>0</td>\n",
       "    </tr>\n",
       "    <tr>\n",
       "      <th>868891</th>\n",
       "      <td>0</td>\n",
       "      <td>0</td>\n",
       "      <td>0</td>\n",
       "      <td>0</td>\n",
       "      <td>0</td>\n",
       "      <td>0</td>\n",
       "      <td>1</td>\n",
       "      <td>0</td>\n",
       "      <td>0</td>\n",
       "      <td>0</td>\n",
       "      <td>...</td>\n",
       "      <td>0</td>\n",
       "      <td>0</td>\n",
       "      <td>0</td>\n",
       "      <td>0</td>\n",
       "      <td>0</td>\n",
       "      <td>0</td>\n",
       "      <td>0</td>\n",
       "      <td>0</td>\n",
       "      <td>0</td>\n",
       "      <td>0</td>\n",
       "    </tr>\n",
       "    <tr>\n",
       "      <th>Sum</th>\n",
       "      <td>86254</td>\n",
       "      <td>25234</td>\n",
       "      <td>7072</td>\n",
       "      <td>22937</td>\n",
       "      <td>5077</td>\n",
       "      <td>40046</td>\n",
       "      <td>41464</td>\n",
       "      <td>3716</td>\n",
       "      <td>51262</td>\n",
       "      <td>9423</td>\n",
       "      <td>...</td>\n",
       "      <td>32708</td>\n",
       "      <td>4499</td>\n",
       "      <td>24243</td>\n",
       "      <td>5114</td>\n",
       "      <td>24409</td>\n",
       "      <td>20460</td>\n",
       "      <td>105858</td>\n",
       "      <td>15014</td>\n",
       "      <td>53633</td>\n",
       "      <td>9148</td>\n",
       "    </tr>\n",
       "  </tbody>\n",
       "</table>\n",
       "<p>5 rows × 29 columns</p>\n",
       "</div>"
      ],
      "text/plain": [
       "        Project Subcategory- Applied Sciences  \\\n",
       "868888                                      0   \n",
       "868889                                      0   \n",
       "868890                                      0   \n",
       "868891                                      0   \n",
       "Sum                                     86254   \n",
       "\n",
       "        Project Subcategory- Character Education  \\\n",
       "868888                                         0   \n",
       "868889                                         0   \n",
       "868890                                         0   \n",
       "868891                                         0   \n",
       "Sum                                        25234   \n",
       "\n",
       "        Project Subcategory- Civics & Government  \\\n",
       "868888                                         0   \n",
       "868889                                         0   \n",
       "868890                                         0   \n",
       "868891                                         0   \n",
       "Sum                                         7072   \n",
       "\n",
       "        Project Subcategory- College & Career Prep  \\\n",
       "868888                                           0   \n",
       "868889                                           0   \n",
       "868890                                           0   \n",
       "868891                                           0   \n",
       "Sum                                          22937   \n",
       "\n",
       "        Project Subcategory- Community Service  Project Subcategory- ESL  \\\n",
       "868888                                       0                         0   \n",
       "868889                                       0                         0   \n",
       "868890                                       0                         0   \n",
       "868891                                       0                         0   \n",
       "Sum                                       5077                     40046   \n",
       "\n",
       "        Project Subcategory- Early Development  \\\n",
       "868888                                       0   \n",
       "868889                                       0   \n",
       "868890                                       0   \n",
       "868891                                       1   \n",
       "Sum                                      41464   \n",
       "\n",
       "        Project Subcategory- Economics  \\\n",
       "868888                               0   \n",
       "868889                               0   \n",
       "868890                               0   \n",
       "868891                               0   \n",
       "Sum                               3716   \n",
       "\n",
       "        Project Subcategory- Environmental Science  \\\n",
       "868888                                           0   \n",
       "868889                                           0   \n",
       "868890                                           0   \n",
       "868891                                           0   \n",
       "Sum                                          51262   \n",
       "\n",
       "        Project Subcategory- Extracurricular  \\\n",
       "868888                                     0   \n",
       "868889                                     0   \n",
       "868890                                     0   \n",
       "868891                                     0   \n",
       "Sum                                     9423   \n",
       "\n",
       "                           ...                      \\\n",
       "868888                     ...                       \n",
       "868889                     ...                       \n",
       "868890                     ...                       \n",
       "868891                     ...                       \n",
       "Sum                        ...                       \n",
       "\n",
       "        Project Subcategory- Music  Project Subcategory- Nutrition Education  \\\n",
       "868888                           0                                         0   \n",
       "868889                           0                                         0   \n",
       "868890                           0                                         0   \n",
       "868891                           0                                         0   \n",
       "Sum                          32708                                      4499   \n",
       "\n",
       "        Project Subcategory- Other  Project Subcategory- Parent Involvement  \\\n",
       "868888                           0                                        0   \n",
       "868889                           0                                        0   \n",
       "868890                           0                                        0   \n",
       "868891                           0                                        0   \n",
       "Sum                          24243                                     5114   \n",
       "\n",
       "        Project Subcategory- Performing Arts  \\\n",
       "868888                                     0   \n",
       "868889                                     0   \n",
       "868890                                     0   \n",
       "868891                                     0   \n",
       "Sum                                    24409   \n",
       "\n",
       "        Project Subcategory- Social Sciences  \\\n",
       "868888                                     0   \n",
       "868889                                     0   \n",
       "868890                                     0   \n",
       "868891                                     0   \n",
       "Sum                                    20460   \n",
       "\n",
       "        Project Subcategory- Special Needs  Project Subcategory- Team Sports  \\\n",
       "868888                                   0                                 0   \n",
       "868889                                   0                                 0   \n",
       "868890                                   0                                 0   \n",
       "868891                                   0                                 0   \n",
       "Sum                                 105858                             15014   \n",
       "\n",
       "        Project Subcategory- Visual Arts  \\\n",
       "868888                                 1   \n",
       "868889                                 0   \n",
       "868890                                 1   \n",
       "868891                                 0   \n",
       "Sum                                53633   \n",
       "\n",
       "        Project subcategory- Warmth, Care & Hunger  \n",
       "868888                                           0  \n",
       "868889                                           0  \n",
       "868890                                           0  \n",
       "868891                                           0  \n",
       "Sum                                           9148  \n",
       "\n",
       "[5 rows x 29 columns]"
      ]
     },
     "execution_count": 35,
     "metadata": {},
     "output_type": "execute_result"
    }
   ],
   "source": [
    "df5 = df_projects['Project Subject Subcategory Tree'].str.split(',', expand=True)\n",
    "\n",
    "df6 = df5.rename(columns={0:'Project Subcategory'}, inplace=False)\n",
    "df6 = pd.get_dummies(df6, columns=['Project Subcategory'], prefix_sep= '- ').iloc[:,2:]\n",
    "df6.rename(columns={'Project Subcategory- Warmth':'Project subcategory- Warmth, Care & Hunger'}, inplace=True)\n",
    "\n",
    "df7 = df5.rename(columns={1:'Project Subcategory'}, inplace=False)\n",
    "df7 = pd.get_dummies(df7, columns=['Project Subcategory'], prefix_sep= '-').iloc[:,2:]\n",
    "df7.rename(columns={'Project Subcategory- Warmth':'Project subcategory- Warmth, Care & Hunger'}, inplace=True)\n",
    "df7.drop('Project Subcategory- Care & Hunger', axis =1, inplace = True)\n",
    "\n",
    "df8 = df6.add(df7).fillna(df6).astype(int)\n",
    "df8.loc['Sum'] = df8.sum()\n",
    "df8.tail()"
   ]
  },
  {
   "cell_type": "code",
   "execution_count": 36,
   "metadata": {},
   "outputs": [
    {
     "data": {
      "image/png": "[encoded data removed]",
      "text/plain": [
       "<matplotlib.figure.Figure at 0x1b4cf9148d0>"
      ]
     },
     "metadata": {},
     "output_type": "display_data"
    }
   ],
   "source": [
    "plt.figure(figsize=(10,5))\n",
    "sns.barplot(data=df8.iloc[-1:], alpha=0.8)\n",
    "plt.title('Number of Projects by Subcategory')\n",
    "plt.ylabel('Number of Projects', fontsize=12)\n",
    "plt.xlabel('Project Subcategory', fontsize=12)\n",
    "plt.xticks(rotation=90)\n",
    "plt.show()"
   ]
  },
  {
   "cell_type": "code",
   "execution_count": 37,
   "metadata": {
    "collapsed": true
   },
   "outputs": [],
   "source": [
    "# drop subcategories where sum < 6000 because they are so under-represented they shouldn't affect the data\n",
    "\n",
    "#df8.drop(['Project Subcategory- Community Service','Project Subcategory- Economics','Project Subcategory- Nutrition Education','Project Subcategory- Parent Involvement'], axis =1, inplace = True)\n",
    "#df8.tail()"
   ]
  },
  {
   "cell_type": "code",
   "execution_count": 38,
   "metadata": {},
   "outputs": [
    {
     "data": {
      "text/plain": [
       "Supplies                          314755\n",
       "Technology                        219678\n",
       "Books                             157902\n",
       "Other                              55352\n",
       "Computers & Tablets                20066\n",
       "Trips                              16104\n",
       "Educational Kits & Games           15785\n",
       "Instructional Technology           13443\n",
       "Flexible Seating                   10330\n",
       "Reading Nooks, Desks & Storage     10101\n",
       "Classroom Basics                    8576\n",
       "Art Supplies                        6451\n",
       "Lab Equipment                       5492\n",
       "Sports & Exercise Equipment         4865\n",
       "Food, Clothing & Hygiene            4350\n",
       "Musical Instruments                 3254\n",
       "Visitors                            2388\n",
       "Name: Project Resource Category, dtype: int64"
      ]
     },
     "execution_count": 38,
     "metadata": {},
     "output_type": "execute_result"
    }
   ],
   "source": [
    "df_projects['Project Resource Category'].value_counts()"
   ]
  },
  {
   "cell_type": "code",
   "execution_count": 39,
   "metadata": {
    "scrolled": true
   },
   "outputs": [
    {
     "data": {
      "text/html": [
       "<div>\n",
       "<table border=\"1\" class=\"dataframe\">\n",
       "  <thead>\n",
       "    <tr style=\"text-align: right;\">\n",
       "      <th></th>\n",
       "      <th>Resource- Art Supplies</th>\n",
       "      <th>Resource- Books</th>\n",
       "      <th>Resource- Classroom Basics</th>\n",
       "      <th>Resource- Computers &amp; Tablets</th>\n",
       "      <th>Resource- Educational Kits &amp; Games</th>\n",
       "      <th>Resource- Flexible Seating</th>\n",
       "      <th>Resource- Food, Clothing &amp; Hygiene</th>\n",
       "      <th>Resource- Instructional Technology</th>\n",
       "      <th>Resource- Lab Equipment</th>\n",
       "      <th>Resource- Musical Instruments</th>\n",
       "      <th>Resource- Other</th>\n",
       "      <th>Resource- Reading Nooks, Desks &amp; Storage</th>\n",
       "      <th>Resource- Sports &amp; Exercise Equipment</th>\n",
       "      <th>Resource- Supplies</th>\n",
       "      <th>Resource- Technology</th>\n",
       "      <th>Resource- Trips</th>\n",
       "      <th>Resource- Visitors</th>\n",
       "    </tr>\n",
       "  </thead>\n",
       "  <tbody>\n",
       "    <tr>\n",
       "      <th>868888</th>\n",
       "      <td>1</td>\n",
       "      <td>0</td>\n",
       "      <td>0</td>\n",
       "      <td>0</td>\n",
       "      <td>0</td>\n",
       "      <td>0</td>\n",
       "      <td>0</td>\n",
       "      <td>0</td>\n",
       "      <td>0</td>\n",
       "      <td>0</td>\n",
       "      <td>0</td>\n",
       "      <td>0</td>\n",
       "      <td>0</td>\n",
       "      <td>0</td>\n",
       "      <td>0</td>\n",
       "      <td>0</td>\n",
       "      <td>0</td>\n",
       "    </tr>\n",
       "    <tr>\n",
       "      <th>868889</th>\n",
       "      <td>0</td>\n",
       "      <td>0</td>\n",
       "      <td>0</td>\n",
       "      <td>0</td>\n",
       "      <td>0</td>\n",
       "      <td>0</td>\n",
       "      <td>0</td>\n",
       "      <td>0</td>\n",
       "      <td>0</td>\n",
       "      <td>0</td>\n",
       "      <td>0</td>\n",
       "      <td>1</td>\n",
       "      <td>0</td>\n",
       "      <td>0</td>\n",
       "      <td>0</td>\n",
       "      <td>0</td>\n",
       "      <td>0</td>\n",
       "    </tr>\n",
       "    <tr>\n",
       "      <th>868890</th>\n",
       "      <td>1</td>\n",
       "      <td>0</td>\n",
       "      <td>0</td>\n",
       "      <td>0</td>\n",
       "      <td>0</td>\n",
       "      <td>0</td>\n",
       "      <td>0</td>\n",
       "      <td>0</td>\n",
       "      <td>0</td>\n",
       "      <td>0</td>\n",
       "      <td>0</td>\n",
       "      <td>0</td>\n",
       "      <td>0</td>\n",
       "      <td>0</td>\n",
       "      <td>0</td>\n",
       "      <td>0</td>\n",
       "      <td>0</td>\n",
       "    </tr>\n",
       "    <tr>\n",
       "      <th>868891</th>\n",
       "      <td>0</td>\n",
       "      <td>0</td>\n",
       "      <td>0</td>\n",
       "      <td>1</td>\n",
       "      <td>0</td>\n",
       "      <td>0</td>\n",
       "      <td>0</td>\n",
       "      <td>0</td>\n",
       "      <td>0</td>\n",
       "      <td>0</td>\n",
       "      <td>0</td>\n",
       "      <td>0</td>\n",
       "      <td>0</td>\n",
       "      <td>0</td>\n",
       "      <td>0</td>\n",
       "      <td>0</td>\n",
       "      <td>0</td>\n",
       "    </tr>\n",
       "    <tr>\n",
       "      <th>Sum</th>\n",
       "      <td>6451</td>\n",
       "      <td>157902</td>\n",
       "      <td>8576</td>\n",
       "      <td>20066</td>\n",
       "      <td>15785</td>\n",
       "      <td>10330</td>\n",
       "      <td>4350</td>\n",
       "      <td>13443</td>\n",
       "      <td>5492</td>\n",
       "      <td>3254</td>\n",
       "      <td>55352</td>\n",
       "      <td>10101</td>\n",
       "      <td>4865</td>\n",
       "      <td>314755</td>\n",
       "      <td>219678</td>\n",
       "      <td>16104</td>\n",
       "      <td>2388</td>\n",
       "    </tr>\n",
       "  </tbody>\n",
       "</table>\n",
       "</div>"
      ],
      "text/plain": [
       "        Resource- Art Supplies  Resource- Books  Resource- Classroom Basics  \\\n",
       "868888                       1                0                           0   \n",
       "868889                       0                0                           0   \n",
       "868890                       1                0                           0   \n",
       "868891                       0                0                           0   \n",
       "Sum                       6451           157902                        8576   \n",
       "\n",
       "        Resource- Computers & Tablets  Resource- Educational Kits & Games  \\\n",
       "868888                              0                                   0   \n",
       "868889                              0                                   0   \n",
       "868890                              0                                   0   \n",
       "868891                              1                                   0   \n",
       "Sum                             20066                               15785   \n",
       "\n",
       "        Resource- Flexible Seating  Resource- Food, Clothing & Hygiene  \\\n",
       "868888                           0                                   0   \n",
       "868889                           0                                   0   \n",
       "868890                           0                                   0   \n",
       "868891                           0                                   0   \n",
       "Sum                          10330                                4350   \n",
       "\n",
       "        Resource- Instructional Technology  Resource- Lab Equipment  \\\n",
       "868888                                   0                        0   \n",
       "868889                                   0                        0   \n",
       "868890                                   0                        0   \n",
       "868891                                   0                        0   \n",
       "Sum                                  13443                     5492   \n",
       "\n",
       "        Resource- Musical Instruments  Resource- Other  \\\n",
       "868888                              0                0   \n",
       "868889                              0                0   \n",
       "868890                              0                0   \n",
       "868891                              0                0   \n",
       "Sum                              3254            55352   \n",
       "\n",
       "        Resource- Reading Nooks, Desks & Storage  \\\n",
       "868888                                         0   \n",
       "868889                                         1   \n",
       "868890                                         0   \n",
       "868891                                         0   \n",
       "Sum                                        10101   \n",
       "\n",
       "        Resource- Sports & Exercise Equipment  Resource- Supplies  \\\n",
       "868888                                      0                   0   \n",
       "868889                                      0                   0   \n",
       "868890                                      0                   0   \n",
       "868891                                      0                   0   \n",
       "Sum                                      4865              314755   \n",
       "\n",
       "        Resource- Technology  Resource- Trips  Resource- Visitors  \n",
       "868888                     0                0                   0  \n",
       "868889                     0                0                   0  \n",
       "868890                     0                0                   0  \n",
       "868891                     0                0                   0  \n",
       "Sum                   219678            16104                2388  "
      ]
     },
     "execution_count": 39,
     "metadata": {},
     "output_type": "execute_result"
    }
   ],
   "source": [
    "df9 = pd.get_dummies(df_projects['Project Resource Category'], columns=['Project Resource Category'], prefix_sep= '- ',prefix = 'Resource')\n",
    "df9.loc['Sum'] = df9.sum()\n",
    "df9.tail()"
   ]
  },
  {
   "cell_type": "code",
   "execution_count": 40,
   "metadata": {},
   "outputs": [
    {
     "data": {
      "image/png": "[encoded data removed]",
      "text/plain": [
       "<matplotlib.figure.Figure at 0x1b4cf1bc898>"
      ]
     },
     "metadata": {},
     "output_type": "display_data"
    }
   ],
   "source": [
    "plt.figure(figsize=(10,5))\n",
    "sns.barplot(data=df9.iloc[-1:], alpha=0.8)\n",
    "plt.title('Number of Projects by Resource Category')\n",
    "plt.ylabel('Number of Projects', fontsize=12)\n",
    "plt.xlabel('Project Resource Category', fontsize=12)\n",
    "plt.xticks(rotation=90)\n",
    "plt.show()"
   ]
  },
  {
   "cell_type": "code",
   "execution_count": 41,
   "metadata": {
    "collapsed": true
   },
   "outputs": [],
   "source": [
    "df4.drop(df4.columns[df4.iloc[0:-1].apply(lambda col: col.sum() < 0.01 * len(df_projects['Project ID'].unique()))], axis=1, inplace = True)\n",
    "df8.drop(df8.columns[df8.iloc[0:-1].apply(lambda col: col.sum() < 0.01 * len(df_projects['Project ID'].unique()))], axis=1, inplace = True)\n",
    "df9.drop(df9.columns[df9.iloc[0:-1].apply(lambda col: col.sum() < 0.01 * len(df_projects['Project ID'].unique()))], axis=1, inplace = True)"
   ]
  },
  {
   "cell_type": "code",
   "execution_count": 42,
   "metadata": {},
   "outputs": [
    {
     "data": {
      "text/html": [
       "<div>\n",
       "<table border=\"1\" class=\"dataframe\">\n",
       "  <thead>\n",
       "    <tr style=\"text-align: right;\">\n",
       "      <th></th>\n",
       "      <th>Project ID</th>\n",
       "      <th>Resource Vendor Name</th>\n",
       "      <th>Resource Item Name</th>\n",
       "      <th>Resource Quantity</th>\n",
       "      <th>Resource Unit Price</th>\n",
       "    </tr>\n",
       "  </thead>\n",
       "  <tbody>\n",
       "    <tr>\n",
       "      <th>1406704</th>\n",
       "      <td>ffffad3f78f2b13ce571c709dd049cd3</td>\n",
       "      <td>Best Buy Education</td>\n",
       "      <td>1</td>\n",
       "      <td>1</td>\n",
       "      <td>1</td>\n",
       "    </tr>\n",
       "    <tr>\n",
       "      <th>1406705</th>\n",
       "      <td>ffffc2e1225ac40a3ace9b8562115c9b</td>\n",
       "      <td>Amazon Business</td>\n",
       "      <td>2</td>\n",
       "      <td>2</td>\n",
       "      <td>2</td>\n",
       "    </tr>\n",
       "    <tr>\n",
       "      <th>1406706</th>\n",
       "      <td>ffffd8f0fbfa10b99efe90a5ee13c5df</td>\n",
       "      <td>Amazon Business</td>\n",
       "      <td>5</td>\n",
       "      <td>5</td>\n",
       "      <td>5</td>\n",
       "    </tr>\n",
       "    <tr>\n",
       "      <th>1406707</th>\n",
       "      <td>ffffddafb302eb8e4dff8819e9e5ee52</td>\n",
       "      <td>Best Buy Education</td>\n",
       "      <td>1</td>\n",
       "      <td>1</td>\n",
       "      <td>1</td>\n",
       "    </tr>\n",
       "    <tr>\n",
       "      <th>1406708</th>\n",
       "      <td>fffffcc42d1bf7ab742a4fa2d820f9f0</td>\n",
       "      <td>Best Buy Education</td>\n",
       "      <td>1</td>\n",
       "      <td>1</td>\n",
       "      <td>1</td>\n",
       "    </tr>\n",
       "  </tbody>\n",
       "</table>\n",
       "</div>"
      ],
      "text/plain": [
       "                               Project ID Resource Vendor Name  \\\n",
       "1406704  ffffad3f78f2b13ce571c709dd049cd3   Best Buy Education   \n",
       "1406705  ffffc2e1225ac40a3ace9b8562115c9b      Amazon Business   \n",
       "1406706  ffffd8f0fbfa10b99efe90a5ee13c5df      Amazon Business   \n",
       "1406707  ffffddafb302eb8e4dff8819e9e5ee52   Best Buy Education   \n",
       "1406708  fffffcc42d1bf7ab742a4fa2d820f9f0   Best Buy Education   \n",
       "\n",
       "         Resource Item Name  Resource Quantity  Resource Unit Price  \n",
       "1406704                   1                  1                    1  \n",
       "1406705                   2                  2                    2  \n",
       "1406706                   5                  5                    5  \n",
       "1406707                   1                  1                    1  \n",
       "1406708                   1                  1                    1  "
      ]
     },
     "execution_count": 42,
     "metadata": {},
     "output_type": "execute_result"
    }
   ],
   "source": [
    "df_resources_merged = df_resources.groupby(['Project ID','Resource Vendor Name']).agg('count').reset_index()\n",
    "df_resources_merged.tail()"
   ]
  },
  {
   "cell_type": "code",
   "execution_count": 43,
   "metadata": {},
   "outputs": [
    {
     "data": {
      "text/plain": [
       "1168106"
      ]
     },
     "execution_count": 43,
     "metadata": {},
     "output_type": "execute_result"
    }
   ],
   "source": [
    "len(df_resources_merged['Project ID'].unique())"
   ]
  },
  {
   "cell_type": "code",
   "execution_count": 44,
   "metadata": {},
   "outputs": [
    {
     "data": {
      "text/plain": [
       "Amazon Business                       473501\n",
       "Lakeshore Learning Materials          224227\n",
       "Best Buy Education                    183103\n",
       "AKJ Education                          82520\n",
       "School Specialty                       62339\n",
       "Kaplan Early Learning Company          58129\n",
       "Quill.com                              53226\n",
       "Staples Advantage                      42070\n",
       "Teachers' School Supply                33261\n",
       "Nasco                                  31683\n",
       "Woodwind and Brasswind                 25096\n",
       "CDW-G                                  24223\n",
       "Blick Art Materials                    23154\n",
       "Scholastic Classroom Magazines         22906\n",
       "Carolina Biological Supply Company     18026\n",
       "DICK'S Sporting Goods                  13497\n",
       "Frey Scientific                        10498\n",
       "TIME for Kids                          10266\n",
       "Grainger                                5322\n",
       "Sargent-Welch                           3140\n",
       "MakerBot                                1928\n",
       "ABC School Supply                       1303\n",
       "Britannica Digital Learning              923\n",
       "LEGO Education                           713\n",
       "Sportime                                 414\n",
       "Sax Arts & Crafts                        317\n",
       "Abilitations                             282\n",
       "Childcraft                               256\n",
       "Cannon Sports                            196\n",
       "Ward's Science                           189\n",
       "BSN                                        1\n",
       "Name: Resource Vendor Name, dtype: int64"
      ]
     },
     "execution_count": 44,
     "metadata": {},
     "output_type": "execute_result"
    }
   ],
   "source": [
    "df_resources_merged['Resource Vendor Name'].value_counts()  #too many, neeed to reduce"
   ]
  },
  {
   "cell_type": "code",
   "execution_count": 45,
   "metadata": {},
   "outputs": [
    {
     "data": {
      "text/plain": [
       "Amazon Business                 473501\n",
       "Others                          443358\n",
       "Lakeshore Learning Materials    224227\n",
       "Best Buy Education              183103\n",
       "AKJ Education                    82520\n",
       "Name: Resource Vendor Name, dtype: int64"
      ]
     },
     "execution_count": 45,
     "metadata": {},
     "output_type": "execute_result"
    }
   ],
   "source": [
    "df_resources_merged.loc[~df_resources_merged['Resource Vendor Name'].isin(['Amazon Business','Lakeshore Learning Materials','AKJ Education','Best Buy Education']),'Resource Vendor Name'] = 'Others'\n",
    "                                              \n",
    "#df_resources_merged.loc[~df_resources_merged['Resource Vendor Name'] .isin(['Amazon Business','Lakeshore Learning Materials','AKJ Education','Best Buy Education'])] = 'Others'\n",
    "df_resources_merged['Resource Vendor Name'].value_counts()  #reduced version"
   ]
  },
  {
   "cell_type": "code",
   "execution_count": 46,
   "metadata": {},
   "outputs": [
    {
     "data": {
      "text/plain": [
       "1168106"
      ]
     },
     "execution_count": 46,
     "metadata": {},
     "output_type": "execute_result"
    }
   ],
   "source": [
    "len(df_resources_merged['Project ID'].unique())"
   ]
  },
  {
   "cell_type": "code",
   "execution_count": 47,
   "metadata": {},
   "outputs": [
    {
     "data": {
      "text/html": [
       "<div>\n",
       "<table border=\"1\" class=\"dataframe\">\n",
       "  <thead>\n",
       "    <tr style=\"text-align: right;\">\n",
       "      <th></th>\n",
       "      <th>Project ID</th>\n",
       "      <th>Resource Vendor Name-AKJ Education</th>\n",
       "      <th>Resource Vendor Name-Amazon Business</th>\n",
       "      <th>Resource Vendor Name-Best Buy Education</th>\n",
       "      <th>Resource Vendor Name-Lakeshore Learning Materials</th>\n",
       "      <th>Resource Vendor Name-Others</th>\n",
       "    </tr>\n",
       "  </thead>\n",
       "  <tbody>\n",
       "    <tr>\n",
       "      <th>1168101</th>\n",
       "      <td>ffffad3f78f2b13ce571c709dd049cd3</td>\n",
       "      <td>0</td>\n",
       "      <td>0</td>\n",
       "      <td>1</td>\n",
       "      <td>0</td>\n",
       "      <td>0</td>\n",
       "    </tr>\n",
       "    <tr>\n",
       "      <th>1168102</th>\n",
       "      <td>ffffc2e1225ac40a3ace9b8562115c9b</td>\n",
       "      <td>0</td>\n",
       "      <td>1</td>\n",
       "      <td>0</td>\n",
       "      <td>0</td>\n",
       "      <td>0</td>\n",
       "    </tr>\n",
       "    <tr>\n",
       "      <th>1168103</th>\n",
       "      <td>ffffd8f0fbfa10b99efe90a5ee13c5df</td>\n",
       "      <td>0</td>\n",
       "      <td>1</td>\n",
       "      <td>0</td>\n",
       "      <td>0</td>\n",
       "      <td>0</td>\n",
       "    </tr>\n",
       "    <tr>\n",
       "      <th>1168104</th>\n",
       "      <td>ffffddafb302eb8e4dff8819e9e5ee52</td>\n",
       "      <td>0</td>\n",
       "      <td>0</td>\n",
       "      <td>1</td>\n",
       "      <td>0</td>\n",
       "      <td>0</td>\n",
       "    </tr>\n",
       "    <tr>\n",
       "      <th>1168105</th>\n",
       "      <td>fffffcc42d1bf7ab742a4fa2d820f9f0</td>\n",
       "      <td>0</td>\n",
       "      <td>0</td>\n",
       "      <td>1</td>\n",
       "      <td>0</td>\n",
       "      <td>0</td>\n",
       "    </tr>\n",
       "  </tbody>\n",
       "</table>\n",
       "</div>"
      ],
      "text/plain": [
       "                               Project ID  Resource Vendor Name-AKJ Education  \\\n",
       "1168101  ffffad3f78f2b13ce571c709dd049cd3                                   0   \n",
       "1168102  ffffc2e1225ac40a3ace9b8562115c9b                                   0   \n",
       "1168103  ffffd8f0fbfa10b99efe90a5ee13c5df                                   0   \n",
       "1168104  ffffddafb302eb8e4dff8819e9e5ee52                                   0   \n",
       "1168105  fffffcc42d1bf7ab742a4fa2d820f9f0                                   0   \n",
       "\n",
       "         Resource Vendor Name-Amazon Business  \\\n",
       "1168101                                     0   \n",
       "1168102                                     1   \n",
       "1168103                                     1   \n",
       "1168104                                     0   \n",
       "1168105                                     0   \n",
       "\n",
       "         Resource Vendor Name-Best Buy Education  \\\n",
       "1168101                                        1   \n",
       "1168102                                        0   \n",
       "1168103                                        0   \n",
       "1168104                                        1   \n",
       "1168105                                        1   \n",
       "\n",
       "         Resource Vendor Name-Lakeshore Learning Materials  \\\n",
       "1168101                                                  0   \n",
       "1168102                                                  0   \n",
       "1168103                                                  0   \n",
       "1168104                                                  0   \n",
       "1168105                                                  0   \n",
       "\n",
       "         Resource Vendor Name-Others  \n",
       "1168101                            0  \n",
       "1168102                            0  \n",
       "1168103                            0  \n",
       "1168104                            0  \n",
       "1168105                            0  "
      ]
     },
     "execution_count": 47,
     "metadata": {},
     "output_type": "execute_result"
    }
   ],
   "source": [
    "df_resources_merged = df_resources_merged[['Project ID','Resource Vendor Name']]\n",
    "df_resources_merged = pd.get_dummies(df_resources_merged, columns=['Resource Vendor Name'],prefix_sep= '-')\n",
    "df_resources_merged = df_resources_merged.groupby('Project ID').agg('sum').reset_index()\n",
    "df_resources_merged.tail()"
   ]
  },
  {
   "cell_type": "code",
   "execution_count": 66,
   "metadata": {
    "collapsed": true
   },
   "outputs": [],
   "source": [
    "df_project_attributes = pd.concat([df_projects['Project ID'].reset_index(drop=True),df4.reset_index(drop=True),df8.reset_index(drop=True),df9.reset_index(drop=True)], axis=1)[0:-1]  # <-- the [0:1] is to remove the last 'sum' row\n",
    "\n",
    "# Inner merge on Project ID column\n",
    "df_project_attributes = pd.merge(left=df_project_attributes, right=df_projects[['Project ID','School ID','Project Grade Level Category','Project Cost']], on=\"Project ID\", how=\"inner\")\n",
    "df_project_attributes = pd.merge(left=df_project_attributes, right=df_schools[['School ID','School Name','School Metro Type','School State']], on=\"School ID\", how=\"inner\")\n",
    "\n",
    "df_project_attributes = pd.merge(left=df_project_attributes, right=df_project_donation_count, on=\"Project ID\", how=\"inner\")\n",
    "df_project_attributes = pd.merge(left=df_project_attributes, right=df_resources_merged, on=\"Project ID\", how=\"inner\")\n",
    "df_project_attributes = pd.get_dummies(df_project_attributes, columns=['Project Grade Level Category', 'School Metro Type'],prefix_sep= '-')\n",
    "df_project_attributes.head()\n",
    "\n",
    "df_project_attributes.drop(['School Metro Type-unknown' ,'Project Grade Level Category-unknown','Project Grade Level Category-Grades PreK-2','Resource Vendor Name-Others'], axis =1, inplace = True)"
   ]
  },
  {
   "cell_type": "code",
   "execution_count": 67,
   "metadata": {},
   "outputs": [
    {
     "data": {
      "text/plain": [
       "Project Category- Applied Learning        Project Subcategory- Early Development      0.562998\n",
       "Project Category- Health & Sports         Project Subcategory- Gym & Fitness          0.530558\n",
       "                                          Project Subcategory- Health & Wellness      0.796307\n",
       "Project Category- History & Civics        Project Subcategory- History & Geography    0.703567\n",
       "                                          Project Subcategory- Social Sciences        0.577911\n",
       "Project Category- Literacy & Language     Project Subcategory- Literacy               0.710075\n",
       "Project Category- Math & Science          Project Subcategory- Mathematics            0.737220\n",
       "Project Category- Music & The Arts        Project Subcategory- Music                  0.561009\n",
       "                                          Project Subcategory- Visual Arts            0.740291\n",
       "Project Subcategory- Early Development    Project Category- Applied Learning          0.562998\n",
       "Project Subcategory- Gym & Fitness        Project Category- Health & Sports           0.530558\n",
       "Project Subcategory- Health & Wellness    Project Category- Health & Sports           0.796307\n",
       "Project Subcategory- History & Geography  Project Category- History & Civics          0.703567\n",
       "Project Subcategory- Literacy             Project Category- Literacy & Language       0.710075\n",
       "Project Subcategory- Mathematics          Project Category- Math & Science            0.737220\n",
       "Project Subcategory- Music                Project Category- Music & The Arts          0.561009\n",
       "Project Subcategory- Social Sciences      Project Category- History & Civics          0.577911\n",
       "Project Subcategory- Visual Arts          Project Category- Music & The Arts          0.740291\n",
       "Resource- Technology                      Resource Vendor Name-Best Buy Education     0.509416\n",
       "School Metro Type-suburban                School Metro Type-urban                     0.613696\n",
       "School Metro Type-urban                   School Metro Type-suburban                  0.613696\n",
       "Resource Vendor Name-Best Buy Education   Resource- Technology                        0.509416\n",
       "dtype: float64"
      ]
     },
     "execution_count": 67,
     "metadata": {},
     "output_type": "execute_result"
    }
   ],
   "source": [
    "check = df_project_attributes[['Project Category- Applied Learning',\n",
    " 'Project Category- Health & Sports',\n",
    " 'Project Category- History & Civics',\n",
    " 'Project Category- Literacy & Language',\n",
    " 'Project Category- Math & Science',\n",
    " 'Project Category- Music & The Arts',\n",
    " 'Project Category- Special Needs',\n",
    "\n",
    " 'Project Subcategory- Applied Sciences',\n",
    " 'Project Subcategory- Character Education',\n",
    "\n",
    " 'Project Subcategory- College & Career Prep',\n",
    "\n",
    " 'Project Subcategory- ESL',\n",
    " 'Project Subcategory- Early Development',\n",
    "\n",
    " 'Project Subcategory- Environmental Science',\n",
    " 'Project Subcategory- Extracurricular',\n",
    "\n",
    "\n",
    " 'Project Subcategory- Gym & Fitness',\n",
    " 'Project Subcategory- Health & Life Science',\n",
    " 'Project Subcategory- Health & Wellness',\n",
    " 'Project Subcategory- History & Geography',\n",
    " 'Project Subcategory- Literacy',\n",
    " 'Project Subcategory- Literature & Writing',\n",
    " 'Project Subcategory- Mathematics',\n",
    " 'Project Subcategory- Music',\n",
    "\n",
    " 'Project Subcategory- Other',\n",
    "\n",
    " 'Project Subcategory- Performing Arts',\n",
    " 'Project Subcategory- Social Sciences',\n",
    " 'Project Subcategory- Special Needs',\n",
    " 'Project Subcategory- Team Sports',\n",
    " 'Project Subcategory- Visual Arts',\n",
    " 'Project subcategory- Warmth, Care & Hunger',\n",
    "\n",
    " 'Resource- Books',\n",
    "\n",
    " 'Resource- Computers & Tablets',\n",
    " 'Resource- Educational Kits & Games',\n",
    " 'Resource- Flexible Seating',\n",
    "\n",
    " 'Resource- Instructional Technology',\n",
    "\n",
    " 'Resource- Other',\n",
    " 'Resource- Reading Nooks, Desks & Storage',\n",
    "\n",
    " 'Resource- Supplies',\n",
    " 'Resource- Technology',\n",
    " 'Resource- Trips',\n",
    " 'Project Grade Level Category-Grades 3-5',\n",
    " 'Project Grade Level Category-Grades 6-8',\n",
    " 'Project Grade Level Category-Grades 9-12',\n",
    "\n",
    " 'School Metro Type-rural',\n",
    " 'School Metro Type-suburban',\n",
    " 'School Metro Type-town',\n",
    " 'School Metro Type-urban',\n",
    " 'Resource Vendor Name-AKJ Education',\n",
    " 'Resource Vendor Name-Amazon Business',\n",
    " 'Resource Vendor Name-Lakeshore Learning Materials',\n",
    " 'Resource Vendor Name-Best Buy Education'\n",
    "                        ]].corr()\n",
    "\n",
    "s = check.abs().unstack()\n",
    "s[(s != 1) & (s >0.5)]"
   ]
  },
  {
   "cell_type": "code",
   "execution_count": 68,
   "metadata": {},
   "outputs": [],
   "source": [
    "df_project_attributes['School Metro Type-urban/suburban'] = df_project_attributes['School Metro Type-urban'] + df_project_attributes['School Metro Type-suburban']\n",
    "df_project_attributes.drop(['School Metro Type-urban','School Metro Type-suburban','Project Subcategory- Health & Wellness','Project Subcategory- History & Geography','Project Subcategory- Literacy','Project Subcategory- Mathematics','Project Subcategory- Visual Arts','Project Subcategory- Gym & Fitness','Project Subcategory- Early Development', 'Project Subcategory- Social Sciences','Project Subcategory- Music','Resource Vendor Name-Best Buy Education'], axis =1, inplace = True)"
   ]
  },
  {
   "cell_type": "code",
   "execution_count": 81,
   "metadata": {},
   "outputs": [
    {
     "data": {
      "text/html": [
       "<div>\n",
       "<table border=\"1\" class=\"dataframe\">\n",
       "  <thead>\n",
       "    <tr style=\"text-align: right;\">\n",
       "      <th></th>\n",
       "      <th>Project ID</th>\n",
       "      <th>Project Category- Applied Learning</th>\n",
       "      <th>Project Category- Health &amp; Sports</th>\n",
       "      <th>Project Category- History &amp; Civics</th>\n",
       "      <th>Project Category- Literacy &amp; Language</th>\n",
       "      <th>Project Category- Math &amp; Science</th>\n",
       "      <th>Project Category- Music &amp; The Arts</th>\n",
       "      <th>Project Category- Special Needs</th>\n",
       "      <th>Project Category- Warmth, Care &amp; Hunger</th>\n",
       "      <th>Project Subcategory- Applied Sciences</th>\n",
       "      <th>...</th>\n",
       "      <th>Total Donation Amt Received</th>\n",
       "      <th>Resource Vendor Name-AKJ Education</th>\n",
       "      <th>Resource Vendor Name-Amazon Business</th>\n",
       "      <th>Resource Vendor Name-Lakeshore Learning Materials</th>\n",
       "      <th>Project Grade Level Category-Grades 3-5</th>\n",
       "      <th>Project Grade Level Category-Grades 6-8</th>\n",
       "      <th>Project Grade Level Category-Grades 9-12</th>\n",
       "      <th>School Metro Type-rural</th>\n",
       "      <th>School Metro Type-town</th>\n",
       "      <th>School Metro Type-urban/suburban</th>\n",
       "    </tr>\n",
       "  </thead>\n",
       "  <tbody>\n",
       "    <tr>\n",
       "      <th>0</th>\n",
       "      <td>7685f0265a19d7b52a470ee4bac883ba</td>\n",
       "      <td>1</td>\n",
       "      <td>0</td>\n",
       "      <td>0</td>\n",
       "      <td>0</td>\n",
       "      <td>0</td>\n",
       "      <td>0</td>\n",
       "      <td>0</td>\n",
       "      <td>0</td>\n",
       "      <td>0</td>\n",
       "      <td>...</td>\n",
       "      <td>230.50</td>\n",
       "      <td>1</td>\n",
       "      <td>0</td>\n",
       "      <td>0</td>\n",
       "      <td>0</td>\n",
       "      <td>0</td>\n",
       "      <td>0</td>\n",
       "      <td>0</td>\n",
       "      <td>0</td>\n",
       "      <td>1</td>\n",
       "    </tr>\n",
       "    <tr>\n",
       "      <th>1</th>\n",
       "      <td>e11cc13f5f29c1a92c1a396a8c7471fb</td>\n",
       "      <td>1</td>\n",
       "      <td>1</td>\n",
       "      <td>0</td>\n",
       "      <td>0</td>\n",
       "      <td>0</td>\n",
       "      <td>0</td>\n",
       "      <td>0</td>\n",
       "      <td>0</td>\n",
       "      <td>0</td>\n",
       "      <td>...</td>\n",
       "      <td>301.24</td>\n",
       "      <td>1</td>\n",
       "      <td>0</td>\n",
       "      <td>0</td>\n",
       "      <td>0</td>\n",
       "      <td>0</td>\n",
       "      <td>0</td>\n",
       "      <td>0</td>\n",
       "      <td>0</td>\n",
       "      <td>1</td>\n",
       "    </tr>\n",
       "    <tr>\n",
       "      <th>2</th>\n",
       "      <td>9e367907db2c9b5c0b23fa6c1318eced</td>\n",
       "      <td>0</td>\n",
       "      <td>0</td>\n",
       "      <td>0</td>\n",
       "      <td>1</td>\n",
       "      <td>1</td>\n",
       "      <td>0</td>\n",
       "      <td>0</td>\n",
       "      <td>0</td>\n",
       "      <td>0</td>\n",
       "      <td>...</td>\n",
       "      <td>55.66</td>\n",
       "      <td>1</td>\n",
       "      <td>0</td>\n",
       "      <td>0</td>\n",
       "      <td>0</td>\n",
       "      <td>0</td>\n",
       "      <td>0</td>\n",
       "      <td>0</td>\n",
       "      <td>0</td>\n",
       "      <td>1</td>\n",
       "    </tr>\n",
       "    <tr>\n",
       "      <th>3</th>\n",
       "      <td>9fa7373e77b89fbd71fd077400e7858d</td>\n",
       "      <td>0</td>\n",
       "      <td>0</td>\n",
       "      <td>0</td>\n",
       "      <td>1</td>\n",
       "      <td>0</td>\n",
       "      <td>0</td>\n",
       "      <td>0</td>\n",
       "      <td>0</td>\n",
       "      <td>0</td>\n",
       "      <td>...</td>\n",
       "      <td>128.00</td>\n",
       "      <td>0</td>\n",
       "      <td>0</td>\n",
       "      <td>0</td>\n",
       "      <td>0</td>\n",
       "      <td>0</td>\n",
       "      <td>0</td>\n",
       "      <td>0</td>\n",
       "      <td>0</td>\n",
       "      <td>1</td>\n",
       "    </tr>\n",
       "    <tr>\n",
       "      <th>4</th>\n",
       "      <td>30ee31b91a437f3c03ac6fb35699f182</td>\n",
       "      <td>0</td>\n",
       "      <td>0</td>\n",
       "      <td>0</td>\n",
       "      <td>1</td>\n",
       "      <td>1</td>\n",
       "      <td>0</td>\n",
       "      <td>0</td>\n",
       "      <td>0</td>\n",
       "      <td>0</td>\n",
       "      <td>...</td>\n",
       "      <td>470.00</td>\n",
       "      <td>1</td>\n",
       "      <td>0</td>\n",
       "      <td>1</td>\n",
       "      <td>0</td>\n",
       "      <td>0</td>\n",
       "      <td>0</td>\n",
       "      <td>0</td>\n",
       "      <td>0</td>\n",
       "      <td>1</td>\n",
       "    </tr>\n",
       "  </tbody>\n",
       "</table>\n",
       "<p>5 rows × 47 columns</p>\n",
       "</div>"
      ],
      "text/plain": [
       "                         Project ID  Project Category- Applied Learning  \\\n",
       "0  7685f0265a19d7b52a470ee4bac883ba                                   1   \n",
       "1  e11cc13f5f29c1a92c1a396a8c7471fb                                   1   \n",
       "2  9e367907db2c9b5c0b23fa6c1318eced                                   0   \n",
       "3  9fa7373e77b89fbd71fd077400e7858d                                   0   \n",
       "4  30ee31b91a437f3c03ac6fb35699f182                                   0   \n",
       "\n",
       "   Project Category- Health & Sports  Project Category- History & Civics  \\\n",
       "0                                  0                                   0   \n",
       "1                                  1                                   0   \n",
       "2                                  0                                   0   \n",
       "3                                  0                                   0   \n",
       "4                                  0                                   0   \n",
       "\n",
       "   Project Category- Literacy & Language  Project Category- Math & Science  \\\n",
       "0                                      0                                 0   \n",
       "1                                      0                                 0   \n",
       "2                                      1                                 1   \n",
       "3                                      1                                 0   \n",
       "4                                      1                                 1   \n",
       "\n",
       "   Project Category- Music & The Arts  Project Category- Special Needs  \\\n",
       "0                                   0                                0   \n",
       "1                                   0                                0   \n",
       "2                                   0                                0   \n",
       "3                                   0                                0   \n",
       "4                                   0                                0   \n",
       "\n",
       "   Project Category- Warmth, Care & Hunger  \\\n",
       "0                                        0   \n",
       "1                                        0   \n",
       "2                                        0   \n",
       "3                                        0   \n",
       "4                                        0   \n",
       "\n",
       "   Project Subcategory- Applied Sciences                ...                 \\\n",
       "0                                      0                ...                  \n",
       "1                                      0                ...                  \n",
       "2                                      0                ...                  \n",
       "3                                      0                ...                  \n",
       "4                                      0                ...                  \n",
       "\n",
       "   Total Donation Amt Received  Resource Vendor Name-AKJ Education  \\\n",
       "0                       230.50                                   1   \n",
       "1                       301.24                                   1   \n",
       "2                        55.66                                   1   \n",
       "3                       128.00                                   0   \n",
       "4                       470.00                                   1   \n",
       "\n",
       "   Resource Vendor Name-Amazon Business  \\\n",
       "0                                     0   \n",
       "1                                     0   \n",
       "2                                     0   \n",
       "3                                     0   \n",
       "4                                     0   \n",
       "\n",
       "   Resource Vendor Name-Lakeshore Learning Materials  \\\n",
       "0                                                  0   \n",
       "1                                                  0   \n",
       "2                                                  0   \n",
       "3                                                  0   \n",
       "4                                                  1   \n",
       "\n",
       "   Project Grade Level Category-Grades 3-5  \\\n",
       "0                                        0   \n",
       "1                                        0   \n",
       "2                                        0   \n",
       "3                                        0   \n",
       "4                                        0   \n",
       "\n",
       "   Project Grade Level Category-Grades 6-8  \\\n",
       "0                                        0   \n",
       "1                                        0   \n",
       "2                                        0   \n",
       "3                                        0   \n",
       "4                                        0   \n",
       "\n",
       "   Project Grade Level Category-Grades 9-12  School Metro Type-rural  \\\n",
       "0                                         0                        0   \n",
       "1                                         0                        0   \n",
       "2                                         0                        0   \n",
       "3                                         0                        0   \n",
       "4                                         0                        0   \n",
       "\n",
       "   School Metro Type-town  School Metro Type-urban/suburban  \n",
       "0                       0                                 1  \n",
       "1                       0                                 1  \n",
       "2                       0                                 1  \n",
       "3                       0                                 1  \n",
       "4                       0                                 1  \n",
       "\n",
       "[5 rows x 47 columns]"
      ]
     },
     "execution_count": 81,
     "metadata": {},
     "output_type": "execute_result"
    }
   ],
   "source": [
    "df_project_attributes.head()"
   ]
  },
  {
   "cell_type": "markdown",
   "metadata": {},
   "source": [
    "#### Transform Data - Donor Attributes\n"
   ]
  },
  {
   "cell_type": "code",
   "execution_count": 51,
   "metadata": {},
   "outputs": [
    {
     "data": {
      "text/html": [
       "<div>\n",
       "<table border=\"1\" class=\"dataframe\">\n",
       "  <thead>\n",
       "    <tr style=\"text-align: right;\">\n",
       "      <th></th>\n",
       "      <th>count</th>\n",
       "      <th>min</th>\n",
       "      <th>max</th>\n",
       "      <th>sum</th>\n",
       "    </tr>\n",
       "    <tr>\n",
       "      <th>Donor ID</th>\n",
       "      <th></th>\n",
       "      <th></th>\n",
       "      <th></th>\n",
       "      <th></th>\n",
       "    </tr>\n",
       "  </thead>\n",
       "  <tbody>\n",
       "    <tr>\n",
       "      <th>00000ce845c00cbf0686c992fc369df4</th>\n",
       "      <td>1</td>\n",
       "      <td>50.00</td>\n",
       "      <td>50.0</td>\n",
       "      <td>50.00</td>\n",
       "    </tr>\n",
       "    <tr>\n",
       "      <th>00002783bc5d108510f3f9666c8b1edd</th>\n",
       "      <td>1</td>\n",
       "      <td>99.00</td>\n",
       "      <td>99.0</td>\n",
       "      <td>99.00</td>\n",
       "    </tr>\n",
       "    <tr>\n",
       "      <th>00002d44003ed46b066607c5455a999a</th>\n",
       "      <td>10</td>\n",
       "      <td>9.69</td>\n",
       "      <td>150.0</td>\n",
       "      <td>534.95</td>\n",
       "    </tr>\n",
       "    <tr>\n",
       "      <th>00002eb25d60a09c318efbd0797bffb5</th>\n",
       "      <td>5</td>\n",
       "      <td>10.00</td>\n",
       "      <td>50.0</td>\n",
       "      <td>210.00</td>\n",
       "    </tr>\n",
       "    <tr>\n",
       "      <th>00004c31ce07c22148ee37acd0f814b9</th>\n",
       "      <td>1</td>\n",
       "      <td>25.00</td>\n",
       "      <td>25.0</td>\n",
       "      <td>25.00</td>\n",
       "    </tr>\n",
       "  </tbody>\n",
       "</table>\n",
       "</div>"
      ],
      "text/plain": [
       "                                  count    min    max     sum\n",
       "Donor ID                                                     \n",
       "00000ce845c00cbf0686c992fc369df4      1  50.00   50.0   50.00\n",
       "00002783bc5d108510f3f9666c8b1edd      1  99.00   99.0   99.00\n",
       "00002d44003ed46b066607c5455a999a     10   9.69  150.0  534.95\n",
       "00002eb25d60a09c318efbd0797bffb5      5  10.00   50.0  210.00\n",
       "00004c31ce07c22148ee37acd0f814b9      1  25.00   25.0   25.00"
      ]
     },
     "execution_count": 51,
     "metadata": {},
     "output_type": "execute_result"
    }
   ],
   "source": [
    "df_donor_stats = df_donations.groupby(\"Donor ID\")['Donation Amount'].agg(['count', 'min', 'max', 'sum'])\n",
    "df_donor_stats.head()"
   ]
  },
  {
   "cell_type": "code",
   "execution_count": 52,
   "metadata": {},
   "outputs": [
    {
     "data": {
      "image/png": "[encoded data removed]",
      "text/plain": [
       "<matplotlib.figure.Figure at 0x1b3c969e240>"
      ]
     },
     "metadata": {},
     "output_type": "display_data"
    }
   ],
   "source": [
    "donation_count  = df_donor_stats['count'].value_counts()[:10,]\n",
    "plt.figure(figsize=(10,5))\n",
    "sns.barplot(donation_count.index, donation_count.values, alpha=0.8)\n",
    "plt.title('Number of Donations made by Donors (by descending number of projects (top 10))')\n",
    "plt.ylabel('Number of Unique Donors', fontsize=12)\n",
    "plt.xlabel('Donations Made', fontsize=12)\n",
    "plt.show()\n"
   ]
  },
  {
   "cell_type": "code",
   "execution_count": 53,
   "metadata": {
    "scrolled": true
   },
   "outputs": [
    {
     "data": {
      "text/html": [
       "<div>\n",
       "<table border=\"1\" class=\"dataframe\">\n",
       "  <thead>\n",
       "    <tr style=\"text-align: right;\">\n",
       "      <th></th>\n",
       "      <th>Donor ID</th>\n",
       "      <th># of Donations Made</th>\n",
       "      <th>min</th>\n",
       "      <th>max</th>\n",
       "      <th>Total Sum Donated</th>\n",
       "      <th>Donor State</th>\n",
       "      <th>Donor Is Teacher-No</th>\n",
       "    </tr>\n",
       "  </thead>\n",
       "  <tbody>\n",
       "    <tr>\n",
       "      <th>1989895</th>\n",
       "      <td>ffffb91addfb35f11b30c2943f349654</td>\n",
       "      <td>1</td>\n",
       "      <td>10.0</td>\n",
       "      <td>10.0</td>\n",
       "      <td>10.0</td>\n",
       "      <td>Maryland</td>\n",
       "      <td>1</td>\n",
       "    </tr>\n",
       "    <tr>\n",
       "      <th>1989896</th>\n",
       "      <td>ffffc2e1225ac40a3ace9b8562115c9b</td>\n",
       "      <td>1</td>\n",
       "      <td>75.0</td>\n",
       "      <td>75.0</td>\n",
       "      <td>75.0</td>\n",
       "      <td>Virginia</td>\n",
       "      <td>1</td>\n",
       "    </tr>\n",
       "    <tr>\n",
       "      <th>1989897</th>\n",
       "      <td>ffffd8f0fbfa10b99efe90a5ee13c5df</td>\n",
       "      <td>1</td>\n",
       "      <td>50.0</td>\n",
       "      <td>50.0</td>\n",
       "      <td>50.0</td>\n",
       "      <td>Washington</td>\n",
       "      <td>1</td>\n",
       "    </tr>\n",
       "    <tr>\n",
       "      <th>1989898</th>\n",
       "      <td>ffffdb40226605870f62422b2b420aab</td>\n",
       "      <td>1</td>\n",
       "      <td>100.0</td>\n",
       "      <td>100.0</td>\n",
       "      <td>100.0</td>\n",
       "      <td>California</td>\n",
       "      <td>1</td>\n",
       "    </tr>\n",
       "    <tr>\n",
       "      <th>1989899</th>\n",
       "      <td>fffffcc42d1bf7ab742a4fa2d820f9f0</td>\n",
       "      <td>1</td>\n",
       "      <td>100.0</td>\n",
       "      <td>100.0</td>\n",
       "      <td>100.0</td>\n",
       "      <td>Michigan</td>\n",
       "      <td>1</td>\n",
       "    </tr>\n",
       "  </tbody>\n",
       "</table>\n",
       "</div>"
      ],
      "text/plain": [
       "                                 Donor ID  # of Donations Made    min    max  \\\n",
       "1989895  ffffb91addfb35f11b30c2943f349654                    1   10.0   10.0   \n",
       "1989896  ffffc2e1225ac40a3ace9b8562115c9b                    1   75.0   75.0   \n",
       "1989897  ffffd8f0fbfa10b99efe90a5ee13c5df                    1   50.0   50.0   \n",
       "1989898  ffffdb40226605870f62422b2b420aab                    1  100.0  100.0   \n",
       "1989899  fffffcc42d1bf7ab742a4fa2d820f9f0                    1  100.0  100.0   \n",
       "\n",
       "         Total Sum Donated Donor State  Donor Is Teacher-No  \n",
       "1989895               10.0    Maryland                    1  \n",
       "1989896               75.0    Virginia                    1  \n",
       "1989897               50.0  Washington                    1  \n",
       "1989898              100.0  California                    1  \n",
       "1989899              100.0    Michigan                    1  "
      ]
     },
     "execution_count": 53,
     "metadata": {},
     "output_type": "execute_result"
    }
   ],
   "source": [
    "df_donor_stats.rename(columns={'count':'# of Donations Made','sum':'Total Sum Donated' }, inplace=True)\n",
    "df_donor_stats.reset_index(inplace=True)\n",
    "df_donor_attributes = pd.merge(left=df_donor_stats, right=df_donors, on=\"Donor ID\", how=\"inner\")\n",
    "df_donor_attributes = pd.get_dummies(df_donor_attributes, columns=['Donor Is Teacher'],prefix_sep= '-')\n",
    "df_donor_attributes.drop(['Donor Is Teacher-Yes'], axis =1, inplace = True)\n",
    "df_donor_attributes.tail()"
   ]
  },
  {
   "cell_type": "code",
   "execution_count": 54,
   "metadata": {
    "collapsed": true
   },
   "outputs": [],
   "source": [
    "###Filter out donors who have only donated once\n",
    "#df_donor_2ormore = df_donor_attributes[df_donor_attributes['# of Donations Made']>1]\n",
    "#df_donor_2ormore.head()"
   ]
  },
  {
   "cell_type": "code",
   "execution_count": 73,
   "metadata": {
    "scrolled": true
   },
   "outputs": [
    {
     "data": {
      "text/html": [
       "<div>\n",
       "<table border=\"1\" class=\"dataframe\">\n",
       "  <thead>\n",
       "    <tr style=\"text-align: right;\">\n",
       "      <th></th>\n",
       "      <th>Donation ID</th>\n",
       "      <th>Donor ID</th>\n",
       "      <th>Donation Amount</th>\n",
       "      <th>Donation Received Date</th>\n",
       "      <th># of Donations Made</th>\n",
       "      <th>min</th>\n",
       "      <th>max</th>\n",
       "      <th>Total Sum Donated</th>\n",
       "      <th>Donor Is Teacher-No</th>\n",
       "      <th>Project ID</th>\n",
       "      <th>...</th>\n",
       "      <th>Resource Vendor Name-AKJ Education</th>\n",
       "      <th>Resource Vendor Name-Amazon Business</th>\n",
       "      <th>Resource Vendor Name-Lakeshore Learning Materials</th>\n",
       "      <th>Project Grade Level Category-Grades 3-5</th>\n",
       "      <th>Project Grade Level Category-Grades 6-8</th>\n",
       "      <th>Project Grade Level Category-Grades 9-12</th>\n",
       "      <th>School Metro Type-rural</th>\n",
       "      <th>School Metro Type-town</th>\n",
       "      <th>School Metro Type-urban/suburban</th>\n",
       "      <th>Donor State == School State</th>\n",
       "    </tr>\n",
       "  </thead>\n",
       "  <tbody>\n",
       "    <tr>\n",
       "      <th>4326813</th>\n",
       "      <td>cb87f8ffcb8e65d525ce0dcaad4557a8</td>\n",
       "      <td>56729cfddae7e622f7d49ba5877c4e5c</td>\n",
       "      <td>20.00</td>\n",
       "      <td>2013-11-05 07:32:22</td>\n",
       "      <td>5</td>\n",
       "      <td>20.00</td>\n",
       "      <td>156.00</td>\n",
       "      <td>376.00</td>\n",
       "      <td>0</td>\n",
       "      <td>ffff55d4742390f0f0a16df88c7411a9</td>\n",
       "      <td>...</td>\n",
       "      <td>0</td>\n",
       "      <td>0</td>\n",
       "      <td>0</td>\n",
       "      <td>0</td>\n",
       "      <td>1</td>\n",
       "      <td>0</td>\n",
       "      <td>0</td>\n",
       "      <td>0</td>\n",
       "      <td>1</td>\n",
       "      <td>1</td>\n",
       "    </tr>\n",
       "    <tr>\n",
       "      <th>4326814</th>\n",
       "      <td>6df112212166113762197b556993d9e4</td>\n",
       "      <td>56729cfddae7e622f7d49ba5877c4e5c</td>\n",
       "      <td>50.00</td>\n",
       "      <td>2013-11-05 07:31:28</td>\n",
       "      <td>5</td>\n",
       "      <td>20.00</td>\n",
       "      <td>156.00</td>\n",
       "      <td>376.00</td>\n",
       "      <td>0</td>\n",
       "      <td>ffff55d4742390f0f0a16df88c7411a9</td>\n",
       "      <td>...</td>\n",
       "      <td>0</td>\n",
       "      <td>0</td>\n",
       "      <td>0</td>\n",
       "      <td>0</td>\n",
       "      <td>1</td>\n",
       "      <td>0</td>\n",
       "      <td>0</td>\n",
       "      <td>0</td>\n",
       "      <td>1</td>\n",
       "      <td>1</td>\n",
       "    </tr>\n",
       "    <tr>\n",
       "      <th>4326815</th>\n",
       "      <td>fc3b3d5d324e00f7fb41d667e5c33a61</td>\n",
       "      <td>56729cfddae7e622f7d49ba5877c4e5c</td>\n",
       "      <td>100.00</td>\n",
       "      <td>2013-11-05 07:28:53</td>\n",
       "      <td>5</td>\n",
       "      <td>20.00</td>\n",
       "      <td>156.00</td>\n",
       "      <td>376.00</td>\n",
       "      <td>0</td>\n",
       "      <td>ffff55d4742390f0f0a16df88c7411a9</td>\n",
       "      <td>...</td>\n",
       "      <td>0</td>\n",
       "      <td>0</td>\n",
       "      <td>0</td>\n",
       "      <td>0</td>\n",
       "      <td>1</td>\n",
       "      <td>0</td>\n",
       "      <td>0</td>\n",
       "      <td>0</td>\n",
       "      <td>1</td>\n",
       "      <td>1</td>\n",
       "    </tr>\n",
       "    <tr>\n",
       "      <th>4326816</th>\n",
       "      <td>502b3d656b3c1eb47af6a6b2405fe01f</td>\n",
       "      <td>56729cfddae7e622f7d49ba5877c4e5c</td>\n",
       "      <td>156.00</td>\n",
       "      <td>2013-11-05 07:27:26</td>\n",
       "      <td>5</td>\n",
       "      <td>20.00</td>\n",
       "      <td>156.00</td>\n",
       "      <td>376.00</td>\n",
       "      <td>0</td>\n",
       "      <td>ffff55d4742390f0f0a16df88c7411a9</td>\n",
       "      <td>...</td>\n",
       "      <td>0</td>\n",
       "      <td>0</td>\n",
       "      <td>0</td>\n",
       "      <td>0</td>\n",
       "      <td>1</td>\n",
       "      <td>0</td>\n",
       "      <td>0</td>\n",
       "      <td>0</td>\n",
       "      <td>1</td>\n",
       "      <td>1</td>\n",
       "    </tr>\n",
       "    <tr>\n",
       "      <th>4326817</th>\n",
       "      <td>2fa53cd766c14c919a685309f1dafac1</td>\n",
       "      <td>9b260707ec97a87dc2073e9b5e958005</td>\n",
       "      <td>343.21</td>\n",
       "      <td>2013-10-24 12:52:38</td>\n",
       "      <td>1</td>\n",
       "      <td>343.21</td>\n",
       "      <td>343.21</td>\n",
       "      <td>343.21</td>\n",
       "      <td>1</td>\n",
       "      <td>ffff55d4742390f0f0a16df88c7411a9</td>\n",
       "      <td>...</td>\n",
       "      <td>0</td>\n",
       "      <td>0</td>\n",
       "      <td>0</td>\n",
       "      <td>0</td>\n",
       "      <td>1</td>\n",
       "      <td>0</td>\n",
       "      <td>0</td>\n",
       "      <td>0</td>\n",
       "      <td>1</td>\n",
       "      <td>1</td>\n",
       "    </tr>\n",
       "  </tbody>\n",
       "</table>\n",
       "<p>5 rows × 55 columns</p>\n",
       "</div>"
      ],
      "text/plain": [
       "                              Donation ID                          Donor ID  \\\n",
       "4326813  cb87f8ffcb8e65d525ce0dcaad4557a8  56729cfddae7e622f7d49ba5877c4e5c   \n",
       "4326814  6df112212166113762197b556993d9e4  56729cfddae7e622f7d49ba5877c4e5c   \n",
       "4326815  fc3b3d5d324e00f7fb41d667e5c33a61  56729cfddae7e622f7d49ba5877c4e5c   \n",
       "4326816  502b3d656b3c1eb47af6a6b2405fe01f  56729cfddae7e622f7d49ba5877c4e5c   \n",
       "4326817  2fa53cd766c14c919a685309f1dafac1  9b260707ec97a87dc2073e9b5e958005   \n",
       "\n",
       "         Donation Amount Donation Received Date  # of Donations Made     min  \\\n",
       "4326813            20.00    2013-11-05 07:32:22                    5   20.00   \n",
       "4326814            50.00    2013-11-05 07:31:28                    5   20.00   \n",
       "4326815           100.00    2013-11-05 07:28:53                    5   20.00   \n",
       "4326816           156.00    2013-11-05 07:27:26                    5   20.00   \n",
       "4326817           343.21    2013-10-24 12:52:38                    1  343.21   \n",
       "\n",
       "            max  Total Sum Donated  Donor Is Teacher-No  \\\n",
       "4326813  156.00             376.00                    0   \n",
       "4326814  156.00             376.00                    0   \n",
       "4326815  156.00             376.00                    0   \n",
       "4326816  156.00             376.00                    0   \n",
       "4326817  343.21             343.21                    1   \n",
       "\n",
       "                               Project ID             ...               \\\n",
       "4326813  ffff55d4742390f0f0a16df88c7411a9             ...                \n",
       "4326814  ffff55d4742390f0f0a16df88c7411a9             ...                \n",
       "4326815  ffff55d4742390f0f0a16df88c7411a9             ...                \n",
       "4326816  ffff55d4742390f0f0a16df88c7411a9             ...                \n",
       "4326817  ffff55d4742390f0f0a16df88c7411a9             ...                \n",
       "\n",
       "         Resource Vendor Name-AKJ Education  \\\n",
       "4326813                                   0   \n",
       "4326814                                   0   \n",
       "4326815                                   0   \n",
       "4326816                                   0   \n",
       "4326817                                   0   \n",
       "\n",
       "         Resource Vendor Name-Amazon Business  \\\n",
       "4326813                                     0   \n",
       "4326814                                     0   \n",
       "4326815                                     0   \n",
       "4326816                                     0   \n",
       "4326817                                     0   \n",
       "\n",
       "         Resource Vendor Name-Lakeshore Learning Materials  \\\n",
       "4326813                                                  0   \n",
       "4326814                                                  0   \n",
       "4326815                                                  0   \n",
       "4326816                                                  0   \n",
       "4326817                                                  0   \n",
       "\n",
       "         Project Grade Level Category-Grades 3-5  \\\n",
       "4326813                                        0   \n",
       "4326814                                        0   \n",
       "4326815                                        0   \n",
       "4326816                                        0   \n",
       "4326817                                        0   \n",
       "\n",
       "         Project Grade Level Category-Grades 6-8  \\\n",
       "4326813                                        1   \n",
       "4326814                                        1   \n",
       "4326815                                        1   \n",
       "4326816                                        1   \n",
       "4326817                                        1   \n",
       "\n",
       "         Project Grade Level Category-Grades 9-12  School Metro Type-rural  \\\n",
       "4326813                                         0                        0   \n",
       "4326814                                         0                        0   \n",
       "4326815                                         0                        0   \n",
       "4326816                                         0                        0   \n",
       "4326817                                         0                        0   \n",
       "\n",
       "         School Metro Type-town  School Metro Type-urban/suburban  \\\n",
       "4326813                       0                                 1   \n",
       "4326814                       0                                 1   \n",
       "4326815                       0                                 1   \n",
       "4326816                       0                                 1   \n",
       "4326817                       0                                 1   \n",
       "\n",
       "         Donor State == School State  \n",
       "4326813                            1  \n",
       "4326814                            1  \n",
       "4326815                            1  \n",
       "4326816                            1  \n",
       "4326817                            1  \n",
       "\n",
       "[5 rows x 55 columns]"
      ]
     },
     "execution_count": 73,
     "metadata": {},
     "output_type": "execute_result"
    }
   ],
   "source": [
    "df_big_table = pd.merge(left=df_donations, right=df_donor_attributes, on=\"Donor ID\", how=\"inner\")\n",
    "\n",
    "# Move Project ID column\n",
    "cols = list(df_big_table.columns.values) #Make a list of all of the columns in the df\n",
    "cols.pop(cols.index('Project ID')) #Remove 'Project ID' from list temporarily\n",
    "df_big_table = df_big_table[cols+['Project ID']] #Move the 'Project ID' column to the last\n",
    "\n",
    "df_big_table = pd.merge(left=df_big_table, right=df_project_attributes, on=\"Project ID\", how=\"inner\")\n",
    "df_big_table = pd.merge(left=df_big_table, right=df_projects[['Project ID', 'Teacher Project Posted Sequence', 'Project Title','Project Subject Category Tree','Project Subject Subcategory Tree', 'Project Resource Category','Project Current Status']], on=\"Project ID\", how=\"inner\")\n",
    "df_big_table['Donor State == School State'] = (df_big_table['Donor State'] == df_big_table['School State']).astype(int)\n",
    "\n",
    "df_big_table['Donor City == School City'] = (df_big_table['Donor City'] == df_big_table['School City']).astype(int)\n",
    "\n",
    "df_big_table.drop(['Teacher Project Posted Sequence',\n",
    " 'Project Title',\n",
    " 'Project Subject Category Tree',\n",
    " 'Project Subject Subcategory Tree',\n",
    " 'Project Resource Category',\n",
    " 'Project Current Status',\n",
    " 'School Name',\n",
    " 'Donor State',\n",
    " 'School State'], axis =1, inplace = True)\n",
    "df_big_table.reset_index(drop=True)\n",
    "df_big_table.tail()\n"
   ]
  },
  {
   "cell_type": "code",
   "execution_count": 72,
   "metadata": {
    "scrolled": true
   },
   "outputs": [
    {
     "data": {
      "text/plain": [
       "['Donation ID',\n",
       " 'Donor ID',\n",
       " 'Donation Amount',\n",
       " 'Donation Received Date',\n",
       " '# of Donations Made',\n",
       " 'min',\n",
       " 'max',\n",
       " 'Total Sum Donated',\n",
       " 'Donor Is Teacher-No',\n",
       " 'Project ID',\n",
       " 'Project Category- Applied Learning',\n",
       " 'Project Category- Health & Sports',\n",
       " 'Project Category- History & Civics',\n",
       " 'Project Category- Literacy & Language',\n",
       " 'Project Category- Math & Science',\n",
       " 'Project Category- Music & The Arts',\n",
       " 'Project Category- Special Needs',\n",
       " 'Project Category- Warmth, Care & Hunger',\n",
       " 'Project Subcategory- Applied Sciences',\n",
       " 'Project Subcategory- Character Education',\n",
       " 'Project Subcategory- College & Career Prep',\n",
       " 'Project Subcategory- ESL',\n",
       " 'Project Subcategory- Environmental Science',\n",
       " 'Project Subcategory- Extracurricular',\n",
       " 'Project Subcategory- Health & Life Science',\n",
       " 'Project Subcategory- Literature & Writing',\n",
       " 'Project Subcategory- Other',\n",
       " 'Project Subcategory- Performing Arts',\n",
       " 'Project Subcategory- Special Needs',\n",
       " 'Project Subcategory- Team Sports',\n",
       " 'Project subcategory- Warmth, Care & Hunger',\n",
       " 'Resource- Books',\n",
       " 'Resource- Computers & Tablets',\n",
       " 'Resource- Educational Kits & Games',\n",
       " 'Resource- Flexible Seating',\n",
       " 'Resource- Instructional Technology',\n",
       " 'Resource- Other',\n",
       " 'Resource- Reading Nooks, Desks & Storage',\n",
       " 'Resource- Supplies',\n",
       " 'Resource- Technology',\n",
       " 'Resource- Trips',\n",
       " 'School ID',\n",
       " 'Project Cost',\n",
       " '# Donations Received',\n",
       " 'Total Donation Amt Received',\n",
       " 'Resource Vendor Name-AKJ Education',\n",
       " 'Resource Vendor Name-Amazon Business',\n",
       " 'Resource Vendor Name-Lakeshore Learning Materials',\n",
       " 'Project Grade Level Category-Grades 3-5',\n",
       " 'Project Grade Level Category-Grades 6-8',\n",
       " 'Project Grade Level Category-Grades 9-12',\n",
       " 'School Metro Type-rural',\n",
       " 'School Metro Type-town',\n",
       " 'School Metro Type-urban/suburban',\n",
       " 'Donor State == School State']"
      ]
     },
     "execution_count": 72,
     "metadata": {},
     "output_type": "execute_result"
    }
   ],
   "source": [
    "list(df_big_table)"
   ]
  },
  {
   "cell_type": "code",
   "execution_count": 74,
   "metadata": {},
   "outputs": [
    {
     "data": {
      "text/plain": [
       "4326818"
      ]
     },
     "execution_count": 74,
     "metadata": {},
     "output_type": "execute_result"
    }
   ],
   "source": [
    "len(df_big_table)"
   ]
  },
  {
   "cell_type": "markdown",
   "metadata": {
    "collapsed": true
   },
   "source": [
    "   ## Subset dataset            \n",
    "   We are trying to subset df_big_table dataframe to minimise it to 20k rows."
   ]
  },
  {
   "cell_type": "code",
   "execution_count": 57,
   "metadata": {},
   "outputs": [
    {
     "name": "stdout",
     "output_type": "stream",
     "text": [
      "129764\n"
     ]
    }
   ],
   "source": [
    "np.random.seed(2018)\n",
    "\n",
    "subset = np.random.choice([True, False], len(df_big_table), replace=True, p=[0.03,0.97])\n",
    "\n",
    "subset_df = df_big_table[subset]\n",
    "\n",
    "print(len(subset_df)) "
   ]
  },
  {
   "cell_type": "markdown",
   "metadata": {},
   "source": [
    "## Filter out donor who only have one donation in subset set\n",
    "Cause these donors don't have test data to evaluate the recommendation performance"
   ]
  },
  {
   "cell_type": "code",
   "execution_count": 58,
   "metadata": {
    "collapsed": true
   },
   "outputs": [],
   "source": [
    "subset_df = subset_df[subset_df.groupby('Donor ID')['Donor ID'].transform(len) > 1]"
   ]
  },
  {
   "cell_type": "code",
   "execution_count": 59,
   "metadata": {},
   "outputs": [
    {
     "data": {
      "text/plain": [
       "36332"
      ]
     },
     "execution_count": 59,
     "metadata": {},
     "output_type": "execute_result"
    }
   ],
   "source": [
    "len(subset_df)"
   ]
  },
  {
   "cell_type": "markdown",
   "metadata": {},
   "source": [
    "## Train / Test data set split\n",
    "After we subset a smaller dataframe, we will split this dataframe into train and test set. We will build recommender model on train set and evaluate the model on test set"
   ]
  },
  {
   "cell_type": "code",
   "execution_count": 60,
   "metadata": {
    "collapsed": true
   },
   "outputs": [],
   "source": [
    "train = subset_df.reset_index(                  # need to keep the index as a column\n",
    "    ).groupby(['Donor ID','Project ID']                    # split by \"Donor ID\" and \"Project ID\"\n",
    "    ).apply(lambda x: x.sample(frac=0.7) # in each group, do the random split\n",
    "    ).reset_index(drop=True              # index now is group id - reset it\n",
    "    ).set_index('index')                 # reset the original index\n",
    "test = subset_df.drop(train.index)              # now we can subtract it from the rest of data"
   ]
  },
  {
   "cell_type": "code",
   "execution_count": 61,
   "metadata": {},
   "outputs": [
    {
     "data": {
      "text/plain": [
       "True"
      ]
     },
     "execution_count": 61,
     "metadata": {},
     "output_type": "execute_result"
    }
   ],
   "source": [
    "train_donor = train['Donor ID'].unique().tolist()\n",
    "\n",
    "test_donor = test['Donor ID'].unique().tolist()\n",
    "\n",
    "set(test_donor).issubset(train_donor)  # a donor appear in test set must already have donation information in train set"
   ]
  },
  {
   "cell_type": "code",
   "execution_count": 62,
   "metadata": {},
   "outputs": [
    {
     "data": {
      "text/plain": [
       "True"
      ]
     },
     "execution_count": 62,
     "metadata": {},
     "output_type": "execute_result"
    }
   ],
   "source": [
    "train_project = train['Project ID'].unique().tolist()\n",
    "\n",
    "test_project = test['Project ID'].unique().tolist()\n",
    "\n",
    "set(test_project).issubset(train_project)  # a project appear in test set must already have donation information in train set"
   ]
  },
  {
   "cell_type": "code",
   "execution_count": 63,
   "metadata": {
    "collapsed": true
   },
   "outputs": [],
   "source": [
    "train.to_csv('train.csv', encoding='utf-8', index=False)\n",
    "test.to_csv('test.csv', encoding='utf-8', index=False)"
   ]
  }
 ],
 "metadata": {
  "kernelspec": {
   "display_name": "Python 3",
   "language": "python",
   "name": "python3"
  },
  "language_info": {
   "codemirror_mode": {
    "name": "ipython",
    "version": 3
   },
   "file_extension": ".py",
   "mimetype": "text/x-python",
   "name": "python",
   "nbconvert_exporter": "python",
   "pygments_lexer": "ipython3",
   "version": "3.6.0"
  }
 },
 "nbformat": 4,
 "nbformat_minor": 2
}
